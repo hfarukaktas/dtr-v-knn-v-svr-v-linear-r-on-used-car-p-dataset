{
 "cells": [
  {
   "cell_type": "code",
   "execution_count": 1,
   "id": "029b2981",
   "metadata": {
    "execution": {
     "iopub.execute_input": "2025-10-17T13:28:20.756303Z",
     "iopub.status.busy": "2025-10-17T13:28:20.755991Z",
     "iopub.status.idle": "2025-10-17T13:28:24.985029Z",
     "shell.execute_reply": "2025-10-17T13:28:24.983986Z"
    },
    "papermill": {
     "duration": 4.248396,
     "end_time": "2025-10-17T13:28:24.986930",
     "exception": false,
     "start_time": "2025-10-17T13:28:20.738534",
     "status": "completed"
    },
    "tags": []
   },
   "outputs": [],
   "source": [
    "import pandas as pd\n",
    "import numpy as np\n",
    "import matplotlib.pyplot as plt\n",
    "import seaborn as sns\n",
    "%matplotlib inline"
   ]
  },
  {
   "cell_type": "code",
   "execution_count": null,
   "id": "5344c3f6",
   "metadata": {
    "execution": {
     "iopub.execute_input": "2025-10-17T13:28:25.016783Z",
     "iopub.status.busy": "2025-10-17T13:28:25.015955Z",
     "iopub.status.idle": "2025-10-17T13:28:25.056426Z",
     "shell.execute_reply": "2025-10-17T13:28:25.055314Z"
    },
    "papermill": {
     "duration": 0.05619,
     "end_time": "2025-10-17T13:28:25.058272",
     "exception": false,
     "start_time": "2025-10-17T13:28:25.002082",
     "status": "completed"
    },
    "tags": []
   },
   "outputs": [],
   "source": [
    "df = pd.read_csv('car_web_scraped_dataset.csv')"
   ]
  },
  {
   "cell_type": "markdown",
   "id": "64ffdb87",
   "metadata": {
    "papermill": {
     "duration": 0.012338,
     "end_time": "2025-10-17T13:28:25.083650",
     "exception": false,
     "start_time": "2025-10-17T13:28:25.071312",
     "status": "completed"
    },
    "tags": []
   },
   "source": [
    "# Exploring the Dataset and Feature Engineering"
   ]
  },
  {
   "cell_type": "code",
   "execution_count": 3,
   "id": "5e235fb7",
   "metadata": {
    "execution": {
     "iopub.execute_input": "2025-10-17T13:28:25.112326Z",
     "iopub.status.busy": "2025-10-17T13:28:25.111196Z",
     "iopub.status.idle": "2025-10-17T13:28:25.140143Z",
     "shell.execute_reply": "2025-10-17T13:28:25.139039Z"
    },
    "papermill": {
     "duration": 0.045818,
     "end_time": "2025-10-17T13:28:25.142111",
     "exception": false,
     "start_time": "2025-10-17T13:28:25.096293",
     "status": "completed"
    },
    "tags": []
   },
   "outputs": [
    {
     "data": {
      "text/html": [
       "<div>\n",
       "<style scoped>\n",
       "    .dataframe tbody tr th:only-of-type {\n",
       "        vertical-align: middle;\n",
       "    }\n",
       "\n",
       "    .dataframe tbody tr th {\n",
       "        vertical-align: top;\n",
       "    }\n",
       "\n",
       "    .dataframe thead th {\n",
       "        text-align: right;\n",
       "    }\n",
       "</style>\n",
       "<table border=\"1\" class=\"dataframe\">\n",
       "  <thead>\n",
       "    <tr style=\"text-align: right;\">\n",
       "      <th></th>\n",
       "      <th>name</th>\n",
       "      <th>year</th>\n",
       "      <th>miles</th>\n",
       "      <th>color</th>\n",
       "      <th>condition</th>\n",
       "      <th>price</th>\n",
       "    </tr>\n",
       "  </thead>\n",
       "  <tbody>\n",
       "    <tr>\n",
       "      <th>0</th>\n",
       "      <td>Kia Forte</td>\n",
       "      <td>2022</td>\n",
       "      <td>41,406 miles</td>\n",
       "      <td>Gray exterior, Black interior</td>\n",
       "      <td>No accidents reported, 1 Owner</td>\n",
       "      <td>$15,988</td>\n",
       "    </tr>\n",
       "    <tr>\n",
       "      <th>1</th>\n",
       "      <td>Chevrolet Silverado 1500</td>\n",
       "      <td>2021</td>\n",
       "      <td>15,138 miles</td>\n",
       "      <td>White exterior, Black interior</td>\n",
       "      <td>1 accident reported, 1 Owner</td>\n",
       "      <td>$38,008</td>\n",
       "    </tr>\n",
       "    <tr>\n",
       "      <th>2</th>\n",
       "      <td>Toyota RAV4</td>\n",
       "      <td>2022</td>\n",
       "      <td>32,879 miles</td>\n",
       "      <td>Silver exterior, Unknown interior</td>\n",
       "      <td>No accidents reported, 1 Owner</td>\n",
       "      <td>$24,988</td>\n",
       "    </tr>\n",
       "    <tr>\n",
       "      <th>3</th>\n",
       "      <td>Honda Civic</td>\n",
       "      <td>2020</td>\n",
       "      <td>37,190 miles</td>\n",
       "      <td>Blue exterior, Black interior</td>\n",
       "      <td>No accidents reported, 1 Owner</td>\n",
       "      <td>$18,998</td>\n",
       "    </tr>\n",
       "    <tr>\n",
       "      <th>4</th>\n",
       "      <td>Honda Civic</td>\n",
       "      <td>2020</td>\n",
       "      <td>27,496 miles</td>\n",
       "      <td>Black exterior, Black interior</td>\n",
       "      <td>No accidents reported, 1 Owner</td>\n",
       "      <td>$19,498</td>\n",
       "    </tr>\n",
       "  </tbody>\n",
       "</table>\n",
       "</div>"
      ],
      "text/plain": [
       "                       name  year         miles  \\\n",
       "0                 Kia Forte  2022  41,406 miles   \n",
       "1  Chevrolet Silverado 1500  2021  15,138 miles   \n",
       "2               Toyota RAV4  2022  32,879 miles   \n",
       "3               Honda Civic  2020  37,190 miles   \n",
       "4               Honda Civic  2020  27,496 miles   \n",
       "\n",
       "                               color                       condition    price  \n",
       "0      Gray exterior, Black interior  No accidents reported, 1 Owner  $15,988  \n",
       "1     White exterior, Black interior    1 accident reported, 1 Owner  $38,008  \n",
       "2  Silver exterior, Unknown interior  No accidents reported, 1 Owner  $24,988  \n",
       "3      Blue exterior, Black interior  No accidents reported, 1 Owner  $18,998  \n",
       "4     Black exterior, Black interior  No accidents reported, 1 Owner  $19,498  "
      ]
     },
     "execution_count": 3,
     "metadata": {},
     "output_type": "execute_result"
    }
   ],
   "source": [
    "df.head()"
   ]
  },
  {
   "cell_type": "code",
   "execution_count": 4,
   "id": "48685ab3",
   "metadata": {
    "execution": {
     "iopub.execute_input": "2025-10-17T13:28:25.169567Z",
     "iopub.status.busy": "2025-10-17T13:28:25.169168Z",
     "iopub.status.idle": "2025-10-17T13:28:25.200685Z",
     "shell.execute_reply": "2025-10-17T13:28:25.199410Z"
    },
    "papermill": {
     "duration": 0.046413,
     "end_time": "2025-10-17T13:28:25.202231",
     "exception": false,
     "start_time": "2025-10-17T13:28:25.155818",
     "status": "completed"
    },
    "tags": []
   },
   "outputs": [
    {
     "name": "stdout",
     "output_type": "stream",
     "text": [
      "<class 'pandas.core.frame.DataFrame'>\n",
      "RangeIndex: 2840 entries, 0 to 2839\n",
      "Data columns (total 6 columns):\n",
      " #   Column     Non-Null Count  Dtype \n",
      "---  ------     --------------  ----- \n",
      " 0   name       2840 non-null   object\n",
      " 1   year       2840 non-null   int64 \n",
      " 2   miles      2840 non-null   object\n",
      " 3   color      2840 non-null   object\n",
      " 4   condition  2840 non-null   object\n",
      " 5   price      2840 non-null   object\n",
      "dtypes: int64(1), object(5)\n",
      "memory usage: 133.3+ KB\n"
     ]
    }
   ],
   "source": [
    "df.info()"
   ]
  },
  {
   "cell_type": "code",
   "execution_count": 5,
   "id": "42a35bf9",
   "metadata": {
    "execution": {
     "iopub.execute_input": "2025-10-17T13:28:25.230217Z",
     "iopub.status.busy": "2025-10-17T13:28:25.229575Z",
     "iopub.status.idle": "2025-10-17T13:28:25.237043Z",
     "shell.execute_reply": "2025-10-17T13:28:25.236099Z"
    },
    "papermill": {
     "duration": 0.023689,
     "end_time": "2025-10-17T13:28:25.239059",
     "exception": false,
     "start_time": "2025-10-17T13:28:25.215370",
     "status": "completed"
    },
    "tags": []
   },
   "outputs": [
    {
     "data": {
      "text/plain": [
       "array(['41,406 miles', '15,138 miles', '32,879 miles', ...,\n",
       "       '27,894 miles', '50,220 miles', '26,510 miles'], dtype=object)"
      ]
     },
     "execution_count": 5,
     "metadata": {},
     "output_type": "execute_result"
    }
   ],
   "source": [
    "df['miles'].unique()"
   ]
  },
  {
   "cell_type": "code",
   "execution_count": 6,
   "id": "65452fcd",
   "metadata": {
    "execution": {
     "iopub.execute_input": "2025-10-17T13:28:25.268040Z",
     "iopub.status.busy": "2025-10-17T13:28:25.267695Z",
     "iopub.status.idle": "2025-10-17T13:28:25.278632Z",
     "shell.execute_reply": "2025-10-17T13:28:25.277653Z"
    },
    "papermill": {
     "duration": 0.028967,
     "end_time": "2025-10-17T13:28:25.280511",
     "exception": false,
     "start_time": "2025-10-17T13:28:25.251544",
     "status": "completed"
    },
    "tags": []
   },
   "outputs": [
    {
     "data": {
      "text/plain": [
       "miles\n",
       "25 miles         5\n",
       "55 miles         4\n",
       "22,045 miles     3\n",
       "27,681 miles     3\n",
       "20,280 miles     3\n",
       "                ..\n",
       "106,742 miles    1\n",
       "48,726 miles     1\n",
       "9,620 miles      1\n",
       "20,357 miles     1\n",
       "26,510 miles     1\n",
       "Name: count, Length: 2280, dtype: int64"
      ]
     },
     "execution_count": 6,
     "metadata": {},
     "output_type": "execute_result"
    }
   ],
   "source": [
    "df['miles'].value_counts()"
   ]
  },
  {
   "cell_type": "code",
   "execution_count": 7,
   "id": "6736c6a8",
   "metadata": {
    "execution": {
     "iopub.execute_input": "2025-10-17T13:28:25.309039Z",
     "iopub.status.busy": "2025-10-17T13:28:25.308646Z",
     "iopub.status.idle": "2025-10-17T13:28:25.316212Z",
     "shell.execute_reply": "2025-10-17T13:28:25.315071Z"
    },
    "papermill": {
     "duration": 0.023755,
     "end_time": "2025-10-17T13:28:25.317890",
     "exception": false,
     "start_time": "2025-10-17T13:28:25.294135",
     "status": "completed"
    },
    "tags": []
   },
   "outputs": [],
   "source": [
    "df['miles'] = df['miles'].str.replace('miles', '')"
   ]
  },
  {
   "cell_type": "code",
   "execution_count": 8,
   "id": "422a50b9",
   "metadata": {
    "execution": {
     "iopub.execute_input": "2025-10-17T13:28:25.344444Z",
     "iopub.status.busy": "2025-10-17T13:28:25.344118Z",
     "iopub.status.idle": "2025-10-17T13:28:25.351355Z",
     "shell.execute_reply": "2025-10-17T13:28:25.350417Z"
    },
    "papermill": {
     "duration": 0.02258,
     "end_time": "2025-10-17T13:28:25.353176",
     "exception": false,
     "start_time": "2025-10-17T13:28:25.330596",
     "status": "completed"
    },
    "tags": []
   },
   "outputs": [
    {
     "data": {
      "text/plain": [
       "0    41,406 \n",
       "1    15,138 \n",
       "2    32,879 \n",
       "3    37,190 \n",
       "4    27,496 \n",
       "Name: miles, dtype: object"
      ]
     },
     "execution_count": 8,
     "metadata": {},
     "output_type": "execute_result"
    }
   ],
   "source": [
    "df['miles'].head()"
   ]
  },
  {
   "cell_type": "code",
   "execution_count": 9,
   "id": "ce832832",
   "metadata": {
    "execution": {
     "iopub.execute_input": "2025-10-17T13:28:25.381311Z",
     "iopub.status.busy": "2025-10-17T13:28:25.381008Z",
     "iopub.status.idle": "2025-10-17T13:28:25.387946Z",
     "shell.execute_reply": "2025-10-17T13:28:25.386682Z"
    },
    "papermill": {
     "duration": 0.022266,
     "end_time": "2025-10-17T13:28:25.389768",
     "exception": false,
     "start_time": "2025-10-17T13:28:25.367502",
     "status": "completed"
    },
    "tags": []
   },
   "outputs": [],
   "source": [
    "df['miles'] = df['miles'].str.replace(',','')"
   ]
  },
  {
   "cell_type": "code",
   "execution_count": 10,
   "id": "4cf0d466",
   "metadata": {
    "execution": {
     "iopub.execute_input": "2025-10-17T13:28:25.418751Z",
     "iopub.status.busy": "2025-10-17T13:28:25.418438Z",
     "iopub.status.idle": "2025-10-17T13:28:25.425993Z",
     "shell.execute_reply": "2025-10-17T13:28:25.425088Z"
    },
    "papermill": {
     "duration": 0.024147,
     "end_time": "2025-10-17T13:28:25.427470",
     "exception": false,
     "start_time": "2025-10-17T13:28:25.403323",
     "status": "completed"
    },
    "tags": []
   },
   "outputs": [
    {
     "data": {
      "text/plain": [
       "0    41406 \n",
       "1    15138 \n",
       "2    32879 \n",
       "3    37190 \n",
       "4    27496 \n",
       "Name: miles, dtype: object"
      ]
     },
     "execution_count": 10,
     "metadata": {},
     "output_type": "execute_result"
    }
   ],
   "source": [
    "df['miles'].head()"
   ]
  },
  {
   "cell_type": "code",
   "execution_count": 11,
   "id": "bb986d58",
   "metadata": {
    "execution": {
     "iopub.execute_input": "2025-10-17T13:28:25.455175Z",
     "iopub.status.busy": "2025-10-17T13:28:25.454872Z",
     "iopub.status.idle": "2025-10-17T13:28:25.460427Z",
     "shell.execute_reply": "2025-10-17T13:28:25.459400Z"
    },
    "papermill": {
     "duration": 0.021236,
     "end_time": "2025-10-17T13:28:25.462255",
     "exception": false,
     "start_time": "2025-10-17T13:28:25.441019",
     "status": "completed"
    },
    "tags": []
   },
   "outputs": [],
   "source": [
    "df['miles'] = df['miles'].astype(int)"
   ]
  },
  {
   "cell_type": "code",
   "execution_count": 12,
   "id": "42db4a22",
   "metadata": {
    "execution": {
     "iopub.execute_input": "2025-10-17T13:28:25.491781Z",
     "iopub.status.busy": "2025-10-17T13:28:25.491475Z",
     "iopub.status.idle": "2025-10-17T13:28:25.503699Z",
     "shell.execute_reply": "2025-10-17T13:28:25.502420Z"
    },
    "papermill": {
     "duration": 0.028194,
     "end_time": "2025-10-17T13:28:25.505286",
     "exception": false,
     "start_time": "2025-10-17T13:28:25.477092",
     "status": "completed"
    },
    "tags": []
   },
   "outputs": [
    {
     "name": "stdout",
     "output_type": "stream",
     "text": [
      "<class 'pandas.core.frame.DataFrame'>\n",
      "RangeIndex: 2840 entries, 0 to 2839\n",
      "Data columns (total 6 columns):\n",
      " #   Column     Non-Null Count  Dtype \n",
      "---  ------     --------------  ----- \n",
      " 0   name       2840 non-null   object\n",
      " 1   year       2840 non-null   int64 \n",
      " 2   miles      2840 non-null   int64 \n",
      " 3   color      2840 non-null   object\n",
      " 4   condition  2840 non-null   object\n",
      " 5   price      2840 non-null   object\n",
      "dtypes: int64(2), object(4)\n",
      "memory usage: 133.3+ KB\n"
     ]
    }
   ],
   "source": [
    "df.info()"
   ]
  },
  {
   "cell_type": "code",
   "execution_count": 13,
   "id": "70b3c77e",
   "metadata": {
    "execution": {
     "iopub.execute_input": "2025-10-17T13:28:25.533099Z",
     "iopub.status.busy": "2025-10-17T13:28:25.532810Z",
     "iopub.status.idle": "2025-10-17T13:28:25.540920Z",
     "shell.execute_reply": "2025-10-17T13:28:25.539986Z"
    },
    "papermill": {
     "duration": 0.023771,
     "end_time": "2025-10-17T13:28:25.542420",
     "exception": false,
     "start_time": "2025-10-17T13:28:25.518649",
     "status": "completed"
    },
    "tags": []
   },
   "outputs": [
    {
     "data": {
      "text/plain": [
       "name         0\n",
       "year         0\n",
       "miles        0\n",
       "color        0\n",
       "condition    0\n",
       "price        0\n",
       "dtype: int64"
      ]
     },
     "execution_count": 13,
     "metadata": {},
     "output_type": "execute_result"
    }
   ],
   "source": [
    "df.isnull().sum()"
   ]
  },
  {
   "cell_type": "code",
   "execution_count": 14,
   "id": "f5132127",
   "metadata": {
    "execution": {
     "iopub.execute_input": "2025-10-17T13:28:25.570303Z",
     "iopub.status.busy": "2025-10-17T13:28:25.569981Z",
     "iopub.status.idle": "2025-10-17T13:28:25.598373Z",
     "shell.execute_reply": "2025-10-17T13:28:25.597304Z"
    },
    "papermill": {
     "duration": 0.044328,
     "end_time": "2025-10-17T13:28:25.600041",
     "exception": false,
     "start_time": "2025-10-17T13:28:25.555713",
     "status": "completed"
    },
    "tags": []
   },
   "outputs": [],
   "source": [
    "df[['accidents', 'owners']] = df['condition'].str.split(',', expand= True)"
   ]
  },
  {
   "cell_type": "code",
   "execution_count": 15,
   "id": "72d2355f",
   "metadata": {
    "execution": {
     "iopub.execute_input": "2025-10-17T13:28:25.629707Z",
     "iopub.status.busy": "2025-10-17T13:28:25.629372Z",
     "iopub.status.idle": "2025-10-17T13:28:25.642030Z",
     "shell.execute_reply": "2025-10-17T13:28:25.640809Z"
    },
    "papermill": {
     "duration": 0.028855,
     "end_time": "2025-10-17T13:28:25.643631",
     "exception": false,
     "start_time": "2025-10-17T13:28:25.614776",
     "status": "completed"
    },
    "tags": []
   },
   "outputs": [
    {
     "data": {
      "text/html": [
       "<div>\n",
       "<style scoped>\n",
       "    .dataframe tbody tr th:only-of-type {\n",
       "        vertical-align: middle;\n",
       "    }\n",
       "\n",
       "    .dataframe tbody tr th {\n",
       "        vertical-align: top;\n",
       "    }\n",
       "\n",
       "    .dataframe thead th {\n",
       "        text-align: right;\n",
       "    }\n",
       "</style>\n",
       "<table border=\"1\" class=\"dataframe\">\n",
       "  <thead>\n",
       "    <tr style=\"text-align: right;\">\n",
       "      <th></th>\n",
       "      <th>name</th>\n",
       "      <th>year</th>\n",
       "      <th>miles</th>\n",
       "      <th>color</th>\n",
       "      <th>condition</th>\n",
       "      <th>price</th>\n",
       "      <th>accidents</th>\n",
       "      <th>owners</th>\n",
       "    </tr>\n",
       "  </thead>\n",
       "  <tbody>\n",
       "    <tr>\n",
       "      <th>0</th>\n",
       "      <td>Kia Forte</td>\n",
       "      <td>2022</td>\n",
       "      <td>41406</td>\n",
       "      <td>Gray exterior, Black interior</td>\n",
       "      <td>No accidents reported, 1 Owner</td>\n",
       "      <td>$15,988</td>\n",
       "      <td>No accidents reported</td>\n",
       "      <td>1 Owner</td>\n",
       "    </tr>\n",
       "    <tr>\n",
       "      <th>1</th>\n",
       "      <td>Chevrolet Silverado 1500</td>\n",
       "      <td>2021</td>\n",
       "      <td>15138</td>\n",
       "      <td>White exterior, Black interior</td>\n",
       "      <td>1 accident reported, 1 Owner</td>\n",
       "      <td>$38,008</td>\n",
       "      <td>1 accident reported</td>\n",
       "      <td>1 Owner</td>\n",
       "    </tr>\n",
       "    <tr>\n",
       "      <th>2</th>\n",
       "      <td>Toyota RAV4</td>\n",
       "      <td>2022</td>\n",
       "      <td>32879</td>\n",
       "      <td>Silver exterior, Unknown interior</td>\n",
       "      <td>No accidents reported, 1 Owner</td>\n",
       "      <td>$24,988</td>\n",
       "      <td>No accidents reported</td>\n",
       "      <td>1 Owner</td>\n",
       "    </tr>\n",
       "    <tr>\n",
       "      <th>3</th>\n",
       "      <td>Honda Civic</td>\n",
       "      <td>2020</td>\n",
       "      <td>37190</td>\n",
       "      <td>Blue exterior, Black interior</td>\n",
       "      <td>No accidents reported, 1 Owner</td>\n",
       "      <td>$18,998</td>\n",
       "      <td>No accidents reported</td>\n",
       "      <td>1 Owner</td>\n",
       "    </tr>\n",
       "    <tr>\n",
       "      <th>4</th>\n",
       "      <td>Honda Civic</td>\n",
       "      <td>2020</td>\n",
       "      <td>27496</td>\n",
       "      <td>Black exterior, Black interior</td>\n",
       "      <td>No accidents reported, 1 Owner</td>\n",
       "      <td>$19,498</td>\n",
       "      <td>No accidents reported</td>\n",
       "      <td>1 Owner</td>\n",
       "    </tr>\n",
       "  </tbody>\n",
       "</table>\n",
       "</div>"
      ],
      "text/plain": [
       "                       name  year  miles                              color  \\\n",
       "0                 Kia Forte  2022  41406      Gray exterior, Black interior   \n",
       "1  Chevrolet Silverado 1500  2021  15138     White exterior, Black interior   \n",
       "2               Toyota RAV4  2022  32879  Silver exterior, Unknown interior   \n",
       "3               Honda Civic  2020  37190      Blue exterior, Black interior   \n",
       "4               Honda Civic  2020  27496     Black exterior, Black interior   \n",
       "\n",
       "                        condition    price              accidents    owners  \n",
       "0  No accidents reported, 1 Owner  $15,988  No accidents reported   1 Owner  \n",
       "1    1 accident reported, 1 Owner  $38,008    1 accident reported   1 Owner  \n",
       "2  No accidents reported, 1 Owner  $24,988  No accidents reported   1 Owner  \n",
       "3  No accidents reported, 1 Owner  $18,998  No accidents reported   1 Owner  \n",
       "4  No accidents reported, 1 Owner  $19,498  No accidents reported   1 Owner  "
      ]
     },
     "execution_count": 15,
     "metadata": {},
     "output_type": "execute_result"
    }
   ],
   "source": [
    "df.head()"
   ]
  },
  {
   "cell_type": "code",
   "execution_count": 16,
   "id": "fd3588df",
   "metadata": {
    "execution": {
     "iopub.execute_input": "2025-10-17T13:28:25.672914Z",
     "iopub.status.busy": "2025-10-17T13:28:25.672593Z",
     "iopub.status.idle": "2025-10-17T13:28:25.680665Z",
     "shell.execute_reply": "2025-10-17T13:28:25.679422Z"
    },
    "papermill": {
     "duration": 0.024171,
     "end_time": "2025-10-17T13:28:25.682377",
     "exception": false,
     "start_time": "2025-10-17T13:28:25.658206",
     "status": "completed"
    },
    "tags": []
   },
   "outputs": [
    {
     "data": {
      "text/plain": [
       "array([' 1 Owner', ' 3 Owners', ' 2 Owners', ' 5 Owners', ' 4 Owners',\n",
       "       ' 0 Owners', ' 7 Owners', ' 8 Owners'], dtype=object)"
      ]
     },
     "execution_count": 16,
     "metadata": {},
     "output_type": "execute_result"
    }
   ],
   "source": [
    "df['owners'].unique()"
   ]
  },
  {
   "cell_type": "code",
   "execution_count": 17,
   "id": "6281c147",
   "metadata": {
    "execution": {
     "iopub.execute_input": "2025-10-17T13:28:25.711897Z",
     "iopub.status.busy": "2025-10-17T13:28:25.711406Z",
     "iopub.status.idle": "2025-10-17T13:28:25.723574Z",
     "shell.execute_reply": "2025-10-17T13:28:25.722429Z"
    },
    "papermill": {
     "duration": 0.028712,
     "end_time": "2025-10-17T13:28:25.725597",
     "exception": false,
     "start_time": "2025-10-17T13:28:25.696885",
     "status": "completed"
    },
    "tags": []
   },
   "outputs": [],
   "source": [
    "df['owners'] = df['owners'].str.replace(r'\\D', '', regex=True)"
   ]
  },
  {
   "cell_type": "code",
   "execution_count": 18,
   "id": "3bbda08d",
   "metadata": {
    "execution": {
     "iopub.execute_input": "2025-10-17T13:28:25.757056Z",
     "iopub.status.busy": "2025-10-17T13:28:25.755970Z",
     "iopub.status.idle": "2025-10-17T13:28:25.764127Z",
     "shell.execute_reply": "2025-10-17T13:28:25.762928Z"
    },
    "papermill": {
     "duration": 0.025806,
     "end_time": "2025-10-17T13:28:25.766120",
     "exception": false,
     "start_time": "2025-10-17T13:28:25.740314",
     "status": "completed"
    },
    "tags": []
   },
   "outputs": [
    {
     "data": {
      "text/plain": [
       "0    1\n",
       "1    1\n",
       "2    1\n",
       "3    1\n",
       "4    1\n",
       "Name: owners, dtype: object"
      ]
     },
     "execution_count": 18,
     "metadata": {},
     "output_type": "execute_result"
    }
   ],
   "source": [
    "df['owners'].head()"
   ]
  },
  {
   "cell_type": "code",
   "execution_count": 19,
   "id": "4636bf70",
   "metadata": {
    "execution": {
     "iopub.execute_input": "2025-10-17T13:28:25.797005Z",
     "iopub.status.busy": "2025-10-17T13:28:25.795635Z",
     "iopub.status.idle": "2025-10-17T13:28:25.802877Z",
     "shell.execute_reply": "2025-10-17T13:28:25.801966Z"
    },
    "papermill": {
     "duration": 0.023636,
     "end_time": "2025-10-17T13:28:25.804526",
     "exception": false,
     "start_time": "2025-10-17T13:28:25.780890",
     "status": "completed"
    },
    "tags": []
   },
   "outputs": [
    {
     "data": {
      "text/plain": [
       "array(['1', '3', '2', '5', '4', '0', '7', '8'], dtype=object)"
      ]
     },
     "execution_count": 19,
     "metadata": {},
     "output_type": "execute_result"
    }
   ],
   "source": [
    "df['owners'].unique()"
   ]
  },
  {
   "cell_type": "code",
   "execution_count": 20,
   "id": "d4925ab9",
   "metadata": {
    "execution": {
     "iopub.execute_input": "2025-10-17T13:28:25.835094Z",
     "iopub.status.busy": "2025-10-17T13:28:25.834220Z",
     "iopub.status.idle": "2025-10-17T13:28:25.840204Z",
     "shell.execute_reply": "2025-10-17T13:28:25.838861Z"
    },
    "papermill": {
     "duration": 0.023429,
     "end_time": "2025-10-17T13:28:25.841986",
     "exception": false,
     "start_time": "2025-10-17T13:28:25.818557",
     "status": "completed"
    },
    "tags": []
   },
   "outputs": [],
   "source": [
    "df['owners'] = df['owners'].astype(int)"
   ]
  },
  {
   "cell_type": "code",
   "execution_count": 21,
   "id": "85802a62",
   "metadata": {
    "execution": {
     "iopub.execute_input": "2025-10-17T13:28:25.873949Z",
     "iopub.status.busy": "2025-10-17T13:28:25.872255Z",
     "iopub.status.idle": "2025-10-17T13:28:25.885540Z",
     "shell.execute_reply": "2025-10-17T13:28:25.884410Z"
    },
    "papermill": {
     "duration": 0.031206,
     "end_time": "2025-10-17T13:28:25.887328",
     "exception": false,
     "start_time": "2025-10-17T13:28:25.856122",
     "status": "completed"
    },
    "tags": []
   },
   "outputs": [
    {
     "name": "stdout",
     "output_type": "stream",
     "text": [
      "<class 'pandas.core.frame.DataFrame'>\n",
      "RangeIndex: 2840 entries, 0 to 2839\n",
      "Data columns (total 8 columns):\n",
      " #   Column     Non-Null Count  Dtype \n",
      "---  ------     --------------  ----- \n",
      " 0   name       2840 non-null   object\n",
      " 1   year       2840 non-null   int64 \n",
      " 2   miles      2840 non-null   int64 \n",
      " 3   color      2840 non-null   object\n",
      " 4   condition  2840 non-null   object\n",
      " 5   price      2840 non-null   object\n",
      " 6   accidents  2840 non-null   object\n",
      " 7   owners     2840 non-null   int64 \n",
      "dtypes: int64(3), object(5)\n",
      "memory usage: 177.6+ KB\n"
     ]
    }
   ],
   "source": [
    "df.info()"
   ]
  },
  {
   "cell_type": "code",
   "execution_count": 22,
   "id": "eab8df5b",
   "metadata": {
    "execution": {
     "iopub.execute_input": "2025-10-17T13:28:25.917073Z",
     "iopub.status.busy": "2025-10-17T13:28:25.916781Z",
     "iopub.status.idle": "2025-10-17T13:28:25.924444Z",
     "shell.execute_reply": "2025-10-17T13:28:25.923478Z"
    },
    "papermill": {
     "duration": 0.024588,
     "end_time": "2025-10-17T13:28:25.926227",
     "exception": false,
     "start_time": "2025-10-17T13:28:25.901639",
     "status": "completed"
    },
    "tags": []
   },
   "outputs": [
    {
     "data": {
      "text/plain": [
       "array(['No accidents reported', '1 accident reported',\n",
       "       '3 accidents reported', '2 accidents reported',\n",
       "       '5 accidents reported', '4 accidents reported'], dtype=object)"
      ]
     },
     "execution_count": 22,
     "metadata": {},
     "output_type": "execute_result"
    }
   ],
   "source": [
    "df['accidents'].unique()"
   ]
  },
  {
   "cell_type": "code",
   "execution_count": 23,
   "id": "f62fb190",
   "metadata": {
    "execution": {
     "iopub.execute_input": "2025-10-17T13:28:25.959210Z",
     "iopub.status.busy": "2025-10-17T13:28:25.958906Z",
     "iopub.status.idle": "2025-10-17T13:28:25.969366Z",
     "shell.execute_reply": "2025-10-17T13:28:25.968406Z"
    },
    "papermill": {
     "duration": 0.029486,
     "end_time": "2025-10-17T13:28:25.971203",
     "exception": false,
     "start_time": "2025-10-17T13:28:25.941717",
     "status": "completed"
    },
    "tags": []
   },
   "outputs": [],
   "source": [
    "df['accidents'] = df['accidents'].replace('No accidents reported' ,'0').str.replace(r'\\D', '', regex= True)"
   ]
  },
  {
   "cell_type": "code",
   "execution_count": 24,
   "id": "80b6a33d",
   "metadata": {
    "execution": {
     "iopub.execute_input": "2025-10-17T13:28:26.006513Z",
     "iopub.status.busy": "2025-10-17T13:28:26.006195Z",
     "iopub.status.idle": "2025-10-17T13:28:26.013842Z",
     "shell.execute_reply": "2025-10-17T13:28:26.012422Z"
    },
    "papermill": {
     "duration": 0.028341,
     "end_time": "2025-10-17T13:28:26.015735",
     "exception": false,
     "start_time": "2025-10-17T13:28:25.987394",
     "status": "completed"
    },
    "tags": []
   },
   "outputs": [
    {
     "data": {
      "text/plain": [
       "array(['0', '1', '3', '2', '5', '4'], dtype=object)"
      ]
     },
     "execution_count": 24,
     "metadata": {},
     "output_type": "execute_result"
    }
   ],
   "source": [
    "df['accidents'].unique()"
   ]
  },
  {
   "cell_type": "code",
   "execution_count": 25,
   "id": "2d3f091a",
   "metadata": {
    "execution": {
     "iopub.execute_input": "2025-10-17T13:28:26.049128Z",
     "iopub.status.busy": "2025-10-17T13:28:26.048747Z",
     "iopub.status.idle": "2025-10-17T13:28:26.054217Z",
     "shell.execute_reply": "2025-10-17T13:28:26.053412Z"
    },
    "papermill": {
     "duration": 0.023528,
     "end_time": "2025-10-17T13:28:26.056313",
     "exception": false,
     "start_time": "2025-10-17T13:28:26.032785",
     "status": "completed"
    },
    "tags": []
   },
   "outputs": [],
   "source": [
    "df['accidents'] = df['accidents'].astype(int)"
   ]
  },
  {
   "cell_type": "code",
   "execution_count": 26,
   "id": "be7e5f1b",
   "metadata": {
    "execution": {
     "iopub.execute_input": "2025-10-17T13:28:26.086221Z",
     "iopub.status.busy": "2025-10-17T13:28:26.085935Z",
     "iopub.status.idle": "2025-10-17T13:28:26.099191Z",
     "shell.execute_reply": "2025-10-17T13:28:26.097666Z"
    },
    "papermill": {
     "duration": 0.030558,
     "end_time": "2025-10-17T13:28:26.101125",
     "exception": false,
     "start_time": "2025-10-17T13:28:26.070567",
     "status": "completed"
    },
    "tags": []
   },
   "outputs": [
    {
     "name": "stdout",
     "output_type": "stream",
     "text": [
      "<class 'pandas.core.frame.DataFrame'>\n",
      "RangeIndex: 2840 entries, 0 to 2839\n",
      "Data columns (total 8 columns):\n",
      " #   Column     Non-Null Count  Dtype \n",
      "---  ------     --------------  ----- \n",
      " 0   name       2840 non-null   object\n",
      " 1   year       2840 non-null   int64 \n",
      " 2   miles      2840 non-null   int64 \n",
      " 3   color      2840 non-null   object\n",
      " 4   condition  2840 non-null   object\n",
      " 5   price      2840 non-null   object\n",
      " 6   accidents  2840 non-null   int64 \n",
      " 7   owners     2840 non-null   int64 \n",
      "dtypes: int64(4), object(4)\n",
      "memory usage: 177.6+ KB\n"
     ]
    }
   ],
   "source": [
    "df.info()"
   ]
  },
  {
   "cell_type": "code",
   "execution_count": 27,
   "id": "bea0030e",
   "metadata": {
    "execution": {
     "iopub.execute_input": "2025-10-17T13:28:26.132128Z",
     "iopub.status.busy": "2025-10-17T13:28:26.131856Z",
     "iopub.status.idle": "2025-10-17T13:28:26.139689Z",
     "shell.execute_reply": "2025-10-17T13:28:26.138505Z"
    },
    "papermill": {
     "duration": 0.026018,
     "end_time": "2025-10-17T13:28:26.141421",
     "exception": false,
     "start_time": "2025-10-17T13:28:26.115403",
     "status": "completed"
    },
    "tags": []
   },
   "outputs": [
    {
     "data": {
      "text/plain": [
       "0    $15,988\n",
       "1    $38,008\n",
       "2    $24,988\n",
       "3    $18,998\n",
       "4    $19,498\n",
       "Name: price, dtype: object"
      ]
     },
     "execution_count": 27,
     "metadata": {},
     "output_type": "execute_result"
    }
   ],
   "source": [
    "df['price'].head()"
   ]
  },
  {
   "cell_type": "code",
   "execution_count": 28,
   "id": "2d12579e",
   "metadata": {
    "execution": {
     "iopub.execute_input": "2025-10-17T13:28:26.174444Z",
     "iopub.status.busy": "2025-10-17T13:28:26.173245Z",
     "iopub.status.idle": "2025-10-17T13:28:26.183004Z",
     "shell.execute_reply": "2025-10-17T13:28:26.181987Z"
    },
    "papermill": {
     "duration": 0.028192,
     "end_time": "2025-10-17T13:28:26.184749",
     "exception": false,
     "start_time": "2025-10-17T13:28:26.156557",
     "status": "completed"
    },
    "tags": []
   },
   "outputs": [],
   "source": [
    "df['price'] = df['price'].str.replace(r'\\D', '', regex = True)"
   ]
  },
  {
   "cell_type": "code",
   "execution_count": 29,
   "id": "cf0d0da8",
   "metadata": {
    "execution": {
     "iopub.execute_input": "2025-10-17T13:28:26.218155Z",
     "iopub.status.busy": "2025-10-17T13:28:26.217821Z",
     "iopub.status.idle": "2025-10-17T13:28:26.224667Z",
     "shell.execute_reply": "2025-10-17T13:28:26.223522Z"
    },
    "papermill": {
     "duration": 0.025996,
     "end_time": "2025-10-17T13:28:26.226214",
     "exception": false,
     "start_time": "2025-10-17T13:28:26.200218",
     "status": "completed"
    },
    "tags": []
   },
   "outputs": [
    {
     "data": {
      "text/plain": [
       "0    15988\n",
       "1    38008\n",
       "2    24988\n",
       "3    18998\n",
       "4    19498\n",
       "Name: price, dtype: object"
      ]
     },
     "execution_count": 29,
     "metadata": {},
     "output_type": "execute_result"
    }
   ],
   "source": [
    "df['price'].head()"
   ]
  },
  {
   "cell_type": "code",
   "execution_count": 30,
   "id": "239719ba",
   "metadata": {
    "execution": {
     "iopub.execute_input": "2025-10-17T13:28:26.259015Z",
     "iopub.status.busy": "2025-10-17T13:28:26.258715Z",
     "iopub.status.idle": "2025-10-17T13:28:26.263688Z",
     "shell.execute_reply": "2025-10-17T13:28:26.262883Z"
    },
    "papermill": {
     "duration": 0.02276,
     "end_time": "2025-10-17T13:28:26.265204",
     "exception": false,
     "start_time": "2025-10-17T13:28:26.242444",
     "status": "completed"
    },
    "tags": []
   },
   "outputs": [],
   "source": [
    "df['price'] = df['price'].astype(int)"
   ]
  },
  {
   "cell_type": "code",
   "execution_count": 31,
   "id": "0325d918",
   "metadata": {
    "execution": {
     "iopub.execute_input": "2025-10-17T13:28:26.295241Z",
     "iopub.status.busy": "2025-10-17T13:28:26.294911Z",
     "iopub.status.idle": "2025-10-17T13:28:26.308118Z",
     "shell.execute_reply": "2025-10-17T13:28:26.306742Z"
    },
    "papermill": {
     "duration": 0.030526,
     "end_time": "2025-10-17T13:28:26.310249",
     "exception": false,
     "start_time": "2025-10-17T13:28:26.279723",
     "status": "completed"
    },
    "tags": []
   },
   "outputs": [
    {
     "name": "stdout",
     "output_type": "stream",
     "text": [
      "<class 'pandas.core.frame.DataFrame'>\n",
      "RangeIndex: 2840 entries, 0 to 2839\n",
      "Data columns (total 8 columns):\n",
      " #   Column     Non-Null Count  Dtype \n",
      "---  ------     --------------  ----- \n",
      " 0   name       2840 non-null   object\n",
      " 1   year       2840 non-null   int64 \n",
      " 2   miles      2840 non-null   int64 \n",
      " 3   color      2840 non-null   object\n",
      " 4   condition  2840 non-null   object\n",
      " 5   price      2840 non-null   int64 \n",
      " 6   accidents  2840 non-null   int64 \n",
      " 7   owners     2840 non-null   int64 \n",
      "dtypes: int64(5), object(3)\n",
      "memory usage: 177.6+ KB\n"
     ]
    }
   ],
   "source": [
    "df.info()"
   ]
  },
  {
   "cell_type": "code",
   "execution_count": 32,
   "id": "01dc96c5",
   "metadata": {
    "execution": {
     "iopub.execute_input": "2025-10-17T13:28:26.340844Z",
     "iopub.status.busy": "2025-10-17T13:28:26.340481Z",
     "iopub.status.idle": "2025-10-17T13:28:26.351777Z",
     "shell.execute_reply": "2025-10-17T13:28:26.350431Z"
    },
    "papermill": {
     "duration": 0.028705,
     "end_time": "2025-10-17T13:28:26.353778",
     "exception": false,
     "start_time": "2025-10-17T13:28:26.325073",
     "status": "completed"
    },
    "tags": []
   },
   "outputs": [],
   "source": [
    "df.drop('condition', axis = 1, inplace = True)"
   ]
  },
  {
   "cell_type": "code",
   "execution_count": 33,
   "id": "de2efd44",
   "metadata": {
    "execution": {
     "iopub.execute_input": "2025-10-17T13:28:26.388222Z",
     "iopub.status.busy": "2025-10-17T13:28:26.387900Z",
     "iopub.status.idle": "2025-10-17T13:28:26.401865Z",
     "shell.execute_reply": "2025-10-17T13:28:26.400394Z"
    },
    "papermill": {
     "duration": 0.034779,
     "end_time": "2025-10-17T13:28:26.404031",
     "exception": false,
     "start_time": "2025-10-17T13:28:26.369252",
     "status": "completed"
    },
    "tags": []
   },
   "outputs": [
    {
     "name": "stdout",
     "output_type": "stream",
     "text": [
      "<class 'pandas.core.frame.DataFrame'>\n",
      "RangeIndex: 2840 entries, 0 to 2839\n",
      "Data columns (total 7 columns):\n",
      " #   Column     Non-Null Count  Dtype \n",
      "---  ------     --------------  ----- \n",
      " 0   name       2840 non-null   object\n",
      " 1   year       2840 non-null   int64 \n",
      " 2   miles      2840 non-null   int64 \n",
      " 3   color      2840 non-null   object\n",
      " 4   price      2840 non-null   int64 \n",
      " 5   accidents  2840 non-null   int64 \n",
      " 6   owners     2840 non-null   int64 \n",
      "dtypes: int64(5), object(2)\n",
      "memory usage: 155.4+ KB\n"
     ]
    }
   ],
   "source": [
    "df.info()"
   ]
  },
  {
   "cell_type": "code",
   "execution_count": 34,
   "id": "65ee797e",
   "metadata": {
    "execution": {
     "iopub.execute_input": "2025-10-17T13:28:26.435796Z",
     "iopub.status.busy": "2025-10-17T13:28:26.435458Z",
     "iopub.status.idle": "2025-10-17T13:28:26.442740Z",
     "shell.execute_reply": "2025-10-17T13:28:26.441704Z"
    },
    "papermill": {
     "duration": 0.025282,
     "end_time": "2025-10-17T13:28:26.444232",
     "exception": false,
     "start_time": "2025-10-17T13:28:26.418950",
     "status": "completed"
    },
    "tags": []
   },
   "outputs": [
    {
     "data": {
      "text/plain": [
       "array(['Gray exterior, Black interior', 'White exterior, Black interior',\n",
       "       'Silver exterior, Unknown interior',\n",
       "       'Blue exterior, Black interior', 'Black exterior, Black interior',\n",
       "       'Silver exterior, Black interior',\n",
       "       'Blue exterior, Unknown interior',\n",
       "       'White exterior, Beige interior', 'Black exterior, Brown interior',\n",
       "       'White exterior, Unknown interior', 'Gray exterior, Gray interior',\n",
       "       'Black exterior, Beige interior', 'Red exterior, Black interior',\n",
       "       'Orange exterior, Black interior', 'Blue exterior, Beige interior',\n",
       "       'Blue exterior, Brown interior', 'Silver exterior, Brown interior',\n",
       "       'Gray exterior, Unknown interior',\n",
       "       'Silver exterior, Gray interior',\n",
       "       'White exterior, Orange interior', 'White exterior, Red interior',\n",
       "       'White exterior, Gray interior', 'Black exterior, Gray interior',\n",
       "       'Black exterior, Unknown interior', 'Blue exterior, Gray interior',\n",
       "       'Green exterior, Gray interior', 'Tan exterior, Beige interior',\n",
       "       'Unknown exterior, Gray interior', 'Gray exterior, Brown interior',\n",
       "       'Unknown exterior, Unknown interior',\n",
       "       'Silver exterior, Beige interior', 'Gray exterior, Beige interior',\n",
       "       'Red exterior, Beige interior', 'Green exterior, Green interior',\n",
       "       'White exterior, White interior', 'White exterior, Brown interior',\n",
       "       'Red exterior, Unknown interior', 'Red exterior, Gray interior',\n",
       "       'Green exterior, Black interior', 'Gray exterior, Red interior',\n",
       "       'Tan exterior, Black interior', 'Gold exterior, Black interior',\n",
       "       'Blue exterior, Red interior', 'Yellow exterior, Black interior',\n",
       "       'Red exterior, Brown interior', 'Brown exterior, Beige interior',\n",
       "       'Unknown exterior, Black interior', 'Red exterior, White interior',\n",
       "       'White exterior, Blue interior', 'Black exterior, White interior',\n",
       "       'Black exterior, Red interior', 'Brown exterior, Black interior',\n",
       "       'Silver exterior, Blue interior', 'Gold exterior, Beige interior',\n",
       "       'Purple exterior, Unknown interior',\n",
       "       'Silver exterior, Red interior', 'Green exterior, Beige interior',\n",
       "       'Brown exterior, Gray interior', 'Gray exterior, White interior',\n",
       "       'Gray exterior, Blue interior', 'Unknown exterior, Beige interior',\n",
       "       'Purple exterior, Beige interior', 'Tan exterior, Gray interior',\n",
       "       'Yellow exterior, Yellow interior'], dtype=object)"
      ]
     },
     "execution_count": 34,
     "metadata": {},
     "output_type": "execute_result"
    }
   ],
   "source": [
    "df['color'].unique()"
   ]
  },
  {
   "cell_type": "code",
   "execution_count": 35,
   "id": "8a743450",
   "metadata": {
    "execution": {
     "iopub.execute_input": "2025-10-17T13:28:26.477934Z",
     "iopub.status.busy": "2025-10-17T13:28:26.477518Z",
     "iopub.status.idle": "2025-10-17T13:28:26.483831Z",
     "shell.execute_reply": "2025-10-17T13:28:26.482915Z"
    },
    "papermill": {
     "duration": 0.026004,
     "end_time": "2025-10-17T13:28:26.485782",
     "exception": false,
     "start_time": "2025-10-17T13:28:26.459778",
     "status": "completed"
    },
    "tags": []
   },
   "outputs": [],
   "source": [
    "df.drop('color', axis = 1, inplace = True)"
   ]
  },
  {
   "cell_type": "markdown",
   "id": "3138c5bf",
   "metadata": {
    "papermill": {
     "duration": 0.014802,
     "end_time": "2025-10-17T13:28:26.516314",
     "exception": false,
     "start_time": "2025-10-17T13:28:26.501512",
     "status": "completed"
    },
    "tags": []
   },
   "source": [
    "Removing the unnecessary color column"
   ]
  },
  {
   "cell_type": "code",
   "execution_count": 36,
   "id": "c7df128c",
   "metadata": {
    "execution": {
     "iopub.execute_input": "2025-10-17T13:28:26.548429Z",
     "iopub.status.busy": "2025-10-17T13:28:26.548050Z",
     "iopub.status.idle": "2025-10-17T13:28:26.559567Z",
     "shell.execute_reply": "2025-10-17T13:28:26.558437Z"
    },
    "papermill": {
     "duration": 0.029301,
     "end_time": "2025-10-17T13:28:26.561035",
     "exception": false,
     "start_time": "2025-10-17T13:28:26.531734",
     "status": "completed"
    },
    "tags": []
   },
   "outputs": [
    {
     "name": "stdout",
     "output_type": "stream",
     "text": [
      "<class 'pandas.core.frame.DataFrame'>\n",
      "RangeIndex: 2840 entries, 0 to 2839\n",
      "Data columns (total 6 columns):\n",
      " #   Column     Non-Null Count  Dtype \n",
      "---  ------     --------------  ----- \n",
      " 0   name       2840 non-null   object\n",
      " 1   year       2840 non-null   int64 \n",
      " 2   miles      2840 non-null   int64 \n",
      " 3   price      2840 non-null   int64 \n",
      " 4   accidents  2840 non-null   int64 \n",
      " 5   owners     2840 non-null   int64 \n",
      "dtypes: int64(5), object(1)\n",
      "memory usage: 133.3+ KB\n"
     ]
    }
   ],
   "source": [
    "df.info()"
   ]
  },
  {
   "cell_type": "code",
   "execution_count": 37,
   "id": "070885b9",
   "metadata": {
    "execution": {
     "iopub.execute_input": "2025-10-17T13:28:26.593498Z",
     "iopub.status.busy": "2025-10-17T13:28:26.592285Z",
     "iopub.status.idle": "2025-10-17T13:28:26.600308Z",
     "shell.execute_reply": "2025-10-17T13:28:26.599225Z"
    },
    "papermill": {
     "duration": 0.026915,
     "end_time": "2025-10-17T13:28:26.602864",
     "exception": false,
     "start_time": "2025-10-17T13:28:26.575949",
     "status": "completed"
    },
    "tags": []
   },
   "outputs": [
    {
     "data": {
      "text/plain": [
       "0                   Kia Forte\n",
       "1    Chevrolet Silverado 1500\n",
       "2                 Toyota RAV4\n",
       "3                 Honda Civic\n",
       "4                 Honda Civic\n",
       "Name: name, dtype: object"
      ]
     },
     "execution_count": 37,
     "metadata": {},
     "output_type": "execute_result"
    }
   ],
   "source": [
    "df['name'].head()"
   ]
  },
  {
   "cell_type": "code",
   "execution_count": 38,
   "id": "feb57d34",
   "metadata": {
    "execution": {
     "iopub.execute_input": "2025-10-17T13:28:26.634273Z",
     "iopub.status.busy": "2025-10-17T13:28:26.633959Z",
     "iopub.status.idle": "2025-10-17T13:28:26.641957Z",
     "shell.execute_reply": "2025-10-17T13:28:26.640863Z"
    },
    "papermill": {
     "duration": 0.025959,
     "end_time": "2025-10-17T13:28:26.643625",
     "exception": false,
     "start_time": "2025-10-17T13:28:26.617666",
     "status": "completed"
    },
    "tags": []
   },
   "outputs": [
    {
     "data": {
      "text/plain": [
       "array(['Kia Forte', 'Chevrolet Silverado 1500', 'Toyota RAV4',\n",
       "       'Honda Civic', 'Honda Accord', 'Mercedes-Benz GLC', 'BMW 5 Series',\n",
       "       'Jeep Wrangler', 'Porsche Macan', 'Buick Cascada', 'BMW 3 Series',\n",
       "       'Jeep Grand Cherokee', 'Mercedes-Benz C-Class', 'Porsche Cayenne',\n",
       "       'Honda Odyssey', 'BMW 7 Series', 'Kia K5', 'Nissan Kicks',\n",
       "       'Honda CR-V', 'Chrysler Pacifica', 'Volkswagen Tiguan',\n",
       "       'Nissan Sentra', 'Toyota Camry', 'Chevrolet Malibu',\n",
       "       'Chevrolet Volt', 'Land Rover Range Rover Sport',\n",
       "       'Toyota Highlander', 'Kia Optima', 'Dodge Charger',\n",
       "       'Toyota Corolla', 'Toyota Tacoma', 'Toyota 4Runner',\n",
       "       'Ford Mustang', 'Ford F-150', 'Honda Pilot', 'Nissan Rogue Sport',\n",
       "       'INFINITI QX60', 'Volvo XC60', 'Ford Explorer',\n",
       "       'Chevrolet Equinox', 'Mercedes-Benz GLE', 'Mercedes-Benz S-Class',\n",
       "       'Volvo S90', 'BMW X3', 'Mercedes-Benz GLS', 'Ford Bronco Sport',\n",
       "       'Mitsubishi Outlander Sport', 'Volvo XC90', 'Lexus RX',\n",
       "       'Mercedes-Benz E-Class', 'Nissan Versa', 'Ford Edge',\n",
       "       'BMW 4 Series', 'Hyundai Sonata', 'BMW X4 M', 'Chrysler 300',\n",
       "       'Ford Fusion', 'Mazda Mazda3', 'Mercedes-Benz GLA', 'Lexus LX',\n",
       "       'Chevrolet Blazer', 'Nissan Altima', 'Mazda CX-9', 'Honda S2000',\n",
       "       'Hyundai Palisade', 'Ford Transit Connect Van', 'Volvo S60',\n",
       "       'Chevrolet Traverse', 'Acura RDX', 'Maserati Quattroporte',\n",
       "       'Hyundai Accent', 'Land Rover Range Rover', 'Jeep Gladiator',\n",
       "       'Ford Ranger', 'Chevrolet Tahoe', 'Chevrolet Camaro', 'Kia Soul',\n",
       "       'Subaru Outback', 'Land Rover Range Rover Velar', 'Honda HR-V',\n",
       "       'Mercedes-Benz CLA', 'Ford Fiesta', 'Toyota Venza',\n",
       "       'Mercedes-Benz GLB', 'BMW i3', 'Ford Bronco', 'Subaru WRX',\n",
       "       'Volkswagen Jetta', 'BMW X5', 'Lexus IS',\n",
       "       'Ford Transit Passenger Wagon', 'Audi Q5', 'Maserati GranTurismo',\n",
       "       'Audi Q3', 'Lexus RC', 'Ford Focus', 'Nissan Maxima',\n",
       "       'Hyundai Elantra', 'Audi S3', 'Dodge Challenger', 'Nissan Rogue',\n",
       "       'Kia Seltos', 'Jeep Compass', 'Mercedes-Benz A-Class',\n",
       "       'Land Rover Defender', 'Audi allroad', 'Nissan Pathfinder',\n",
       "       'Lexus NX', 'Lexus LS', 'Jaguar F-PACE', 'Volkswagen Atlas',\n",
       "       'GMC Canyon', 'Dodge Grand Caravan', 'BMW X1', 'Volkswagen CC',\n",
       "       'Hyundai Kona', 'Nissan Frontier', 'Toyota Prius Prime',\n",
       "       'Subaru Forester', 'Buick Encore', 'Chevrolet Corvette',\n",
       "       'Acura MDX', 'Cadillac XT5', 'Jeep Cherokee', 'Subaru Crosstrek',\n",
       "       'Ram 1500 Classic', 'Lexus ES', 'Mazda CX-5', 'Volkswagen Passat',\n",
       "       'INFINITI Q50', 'Audi A4', 'Alfa Romeo Giulia', 'Toyota C-HR',\n",
       "       'Land Rover Range Rover Evoque', 'Hyundai Tucson',\n",
       "       'Land Rover Discovery', 'Volkswagen Beetle', 'Toyota Yaris iA',\n",
       "       'Mazda CX-30', 'INFINITI Q60', 'Jaguar XF', 'Toyota Sienna',\n",
       "       'Audi Q7', 'Toyota Tundra', 'Honda Passport', 'Chevrolet Colorado',\n",
       "       'Ram 1500', 'Cadillac XT6', 'Ford Escape', 'Lexus UX',\n",
       "       'Chevrolet Spark', 'Kia Sportage', 'Subaru Ascent',\n",
       "       'Audi RS 6 Avant', 'Ford Transit Cargo Van', 'Buick Enclave',\n",
       "       'Toyota Prius', 'Volkswagen Taos', 'Audi A3', 'Mazda Mazda6',\n",
       "       'Ford Econoline Cargo Van', 'Jaguar E-PACE', 'Audi A5',\n",
       "       'FIAT 124 Spider', 'Subaru Impreza', 'Toyota Corolla Cross',\n",
       "       'Lincoln Nautilus', 'Honda Fit', 'BMW M6', 'BMW M5', 'Kia Sedona',\n",
       "       'Hyundai Santa Fe', 'Nissan Titan', 'Chrysler 200',\n",
       "       'Aston Martin DB9', 'Cadillac Escalade', 'Audi R8',\n",
       "       'Subaru Legacy', 'Mercedes-Benz M-Class', 'Chevrolet Trailblazer',\n",
       "       'Mercedes-Benz SLK', 'Mercedes-Benz SL', 'Cadillac CTS',\n",
       "       'Dodge Journey', 'Ford Expedition',\n",
       "       'Mercedes-Benz Metris Cargo Van', 'MINI Clubman', 'Audi A7',\n",
       "       'Acura ILX', 'Honda CR-Z', 'BMW X7', 'Porsche 911', 'GMC Yukon',\n",
       "       'Toyota Corolla Hatchback', 'Audi Q8', 'Jeep Grand Cherokee WK',\n",
       "       'Audi A8', 'Mercedes-Benz CLS', 'Subaru BRZ', 'Maserati Levante',\n",
       "       'Lexus GX', 'Nissan Armada', 'GMC Sierra 1500',\n",
       "       'Chevrolet Silverado 2500', 'Toyota RAV4 Prime',\n",
       "       'Alfa Romeo Stelvio', 'BMW 6 Series', 'Volvo V60',\n",
       "       'Mercedes-Benz GL', 'Audi A6', 'Ford Explorer Sport Trac',\n",
       "       'Genesis G80', 'Chevrolet Suburban', 'Ford EcoSport', 'FIAT 500',\n",
       "       'Audi RS 5', 'Mercedes-Benz G-Class', 'INFINITI QX55',\n",
       "       'MINI Countryman', 'Ford Super Duty F-250', 'Chevrolet Cruze',\n",
       "       'Cadillac XT4', 'GMC Acadia', 'Chevrolet Silverado 1500 LTD',\n",
       "       'Volkswagen Routan', 'Porsche Cayman', 'Chrysler Town & Country',\n",
       "       'Toyota Prius v', 'Chevrolet Trax', 'Hyundai Genesis',\n",
       "       'Nissan Murano', 'Land Rover Discovery Sport', 'Karma Revero GT',\n",
       "       'Mercedes-Benz SLC', 'BMW 2 Series', 'Honda Crosstour',\n",
       "       'Porsche 718 Cayman', 'INFINITI QX50', 'Volvo XC40',\n",
       "       'Volkswagen Golf GTI', 'Scion tC', 'Mercedes-Benz CLK',\n",
       "       'Toyota GR Supra', 'McLaren 720S', 'Chevrolet Cruze Limited',\n",
       "       'INFINITI Q70', 'Acura Integra', 'Ford Taurus', 'Nissan Quest',\n",
       "       'Chevrolet Monte Carlo', 'Volkswagen Golf', 'Toyota Avalon',\n",
       "       'Volvo S80', 'Toyota Mirai', 'Nissan NV200 Compact Cargo',\n",
       "       'Toyota Prius c', 'Chevrolet Express Cargo Van',\n",
       "       'Subaru B9 Tribeca', 'Buick Encore GX', 'Chevrolet Impala Limited',\n",
       "       'Rolls-Royce Dawn', 'Mitsubishi Outlander', 'BMW X6',\n",
       "       'Hyundai NEXO', 'Bentley Flying Spur', 'Audi S7',\n",
       "       'Mercedes-Benz GLK', 'Toyota GR Corolla', 'MINI Hardtop',\n",
       "       'Mercedes-Benz Sprinter Passenger Van', 'Aston Martin Vantage',\n",
       "       'Ram 2500', 'Lincoln MKC', 'Ford Super Duty F-550 Chassis Cab',\n",
       "       'Land Rover LR4', 'Lexus CT', 'Kia Telluride',\n",
       "       'Ram ProMaster City Cargo Van', 'Chevrolet Impala',\n",
       "       'Cadillac ATS-V', 'Ram ProMaster Cargo Van', 'Scion FR-S',\n",
       "       'Audi TTS', 'Mercedes-Benz CL', 'Pontiac Solstice',\n",
       "       'Volkswagen Golf Alltrack', 'Cadillac CT4',\n",
       "       'Hyundai Santa Fe Sport', 'Dodge Durango', 'Kia Sorento',\n",
       "       'Maserati Ghibli', 'Genesis G70', 'Mercedes-Benz R-Class',\n",
       "       'GMC Terrain', 'BMW Z3', 'Mazda CX-3', 'Saturn Aura', 'Acura TLX',\n",
       "       'Kia Rio', 'Jeep Patriot', 'Porsche Boxster', 'Lincoln MKX',\n",
       "       'Mazda CX-90', 'Scion xB', 'Jaguar XJ', 'Ford Thunderbird',\n",
       "       'Dodge Ram 1500', 'Ford Super Duty F-350',\n",
       "       'Volkswagen Atlas Cross Sport'], dtype=object)"
      ]
     },
     "execution_count": 38,
     "metadata": {},
     "output_type": "execute_result"
    }
   ],
   "source": [
    "df['name'].unique()"
   ]
  },
  {
   "cell_type": "code",
   "execution_count": 39,
   "id": "7b616786",
   "metadata": {
    "execution": {
     "iopub.execute_input": "2025-10-17T13:28:26.676234Z",
     "iopub.status.busy": "2025-10-17T13:28:26.675197Z",
     "iopub.status.idle": "2025-10-17T13:28:26.684471Z",
     "shell.execute_reply": "2025-10-17T13:28:26.683460Z"
    },
    "papermill": {
     "duration": 0.027039,
     "end_time": "2025-10-17T13:28:26.686143",
     "exception": false,
     "start_time": "2025-10-17T13:28:26.659104",
     "status": "completed"
    },
    "tags": []
   },
   "outputs": [],
   "source": [
    "df['brand_initial'] = df['name'].str.split(' ', n=1).str.get(0)"
   ]
  },
  {
   "cell_type": "code",
   "execution_count": 40,
   "id": "5a6ddf91",
   "metadata": {
    "execution": {
     "iopub.execute_input": "2025-10-17T13:28:26.719551Z",
     "iopub.status.busy": "2025-10-17T13:28:26.719214Z",
     "iopub.status.idle": "2025-10-17T13:28:26.726635Z",
     "shell.execute_reply": "2025-10-17T13:28:26.725730Z"
    },
    "papermill": {
     "duration": 0.025217,
     "end_time": "2025-10-17T13:28:26.728246",
     "exception": false,
     "start_time": "2025-10-17T13:28:26.703029",
     "status": "completed"
    },
    "tags": []
   },
   "outputs": [
    {
     "data": {
      "text/plain": [
       "array(['Kia', 'Chevrolet', 'Toyota', 'Honda', 'Mercedes-Benz', 'BMW',\n",
       "       'Jeep', 'Porsche', 'Buick', 'Nissan', 'Chrysler', 'Volkswagen',\n",
       "       'Land', 'Dodge', 'Ford', 'INFINITI', 'Volvo', 'Mitsubishi',\n",
       "       'Lexus', 'Hyundai', 'Mazda', 'Acura', 'Maserati', 'Subaru', 'Audi',\n",
       "       'Jaguar', 'GMC', 'Cadillac', 'Ram', 'Alfa', 'FIAT', 'Lincoln',\n",
       "       'Aston', 'MINI', 'Genesis', 'Karma', 'Scion', 'McLaren',\n",
       "       'Rolls-Royce', 'Bentley', 'Pontiac', 'Saturn'], dtype=object)"
      ]
     },
     "execution_count": 40,
     "metadata": {},
     "output_type": "execute_result"
    }
   ],
   "source": [
    "df['brand_initial'].unique()"
   ]
  },
  {
   "cell_type": "code",
   "execution_count": 41,
   "id": "9da5e440",
   "metadata": {
    "execution": {
     "iopub.execute_input": "2025-10-17T13:28:26.763065Z",
     "iopub.status.busy": "2025-10-17T13:28:26.762704Z",
     "iopub.status.idle": "2025-10-17T13:28:28.033515Z",
     "shell.execute_reply": "2025-10-17T13:28:28.032239Z"
    },
    "papermill": {
     "duration": 1.290298,
     "end_time": "2025-10-17T13:28:28.035469",
     "exception": false,
     "start_time": "2025-10-17T13:28:26.745171",
     "status": "completed"
    },
    "tags": []
   },
   "outputs": [
    {
     "data": {
      "image/png": "[encoded data removed]",
      "text/plain": [
       "<Figure size 640x480 with 1 Axes>"
      ]
     },
     "metadata": {},
     "output_type": "display_data"
    }
   ],
   "source": [
    "sns.barplot(df, x= 'brand_initial', y = 'price',)\n",
    "plt.show()"
   ]
  },
  {
   "cell_type": "markdown",
   "id": "7d7c4775",
   "metadata": {
    "papermill": {
     "duration": 0.01605,
     "end_time": "2025-10-17T13:28:28.068294",
     "exception": false,
     "start_time": "2025-10-17T13:28:28.052244",
     "status": "completed"
    },
    "tags": []
   },
   "source": [
    "We can see that price is changing by brands"
   ]
  },
  {
   "cell_type": "code",
   "execution_count": 42,
   "id": "5a3bec10",
   "metadata": {
    "execution": {
     "iopub.execute_input": "2025-10-17T13:28:28.101359Z",
     "iopub.status.busy": "2025-10-17T13:28:28.101043Z",
     "iopub.status.idle": "2025-10-17T13:28:28.112399Z",
     "shell.execute_reply": "2025-10-17T13:28:28.111407Z"
    },
    "papermill": {
     "duration": 0.029862,
     "end_time": "2025-10-17T13:28:28.113951",
     "exception": false,
     "start_time": "2025-10-17T13:28:28.084089",
     "status": "completed"
    },
    "tags": []
   },
   "outputs": [
    {
     "name": "stdout",
     "output_type": "stream",
     "text": [
      "<class 'pandas.core.frame.DataFrame'>\n",
      "RangeIndex: 2840 entries, 0 to 2839\n",
      "Data columns (total 7 columns):\n",
      " #   Column         Non-Null Count  Dtype \n",
      "---  ------         --------------  ----- \n",
      " 0   name           2840 non-null   object\n",
      " 1   year           2840 non-null   int64 \n",
      " 2   miles          2840 non-null   int64 \n",
      " 3   price          2840 non-null   int64 \n",
      " 4   accidents      2840 non-null   int64 \n",
      " 5   owners         2840 non-null   int64 \n",
      " 6   brand_initial  2840 non-null   object\n",
      "dtypes: int64(5), object(2)\n",
      "memory usage: 155.4+ KB\n"
     ]
    }
   ],
   "source": [
    "df.info()"
   ]
  },
  {
   "cell_type": "code",
   "execution_count": 43,
   "id": "c0668518",
   "metadata": {
    "execution": {
     "iopub.execute_input": "2025-10-17T13:28:28.148874Z",
     "iopub.status.busy": "2025-10-17T13:28:28.148476Z",
     "iopub.status.idle": "2025-10-17T13:28:28.153725Z",
     "shell.execute_reply": "2025-10-17T13:28:28.152414Z"
    },
    "papermill": {
     "duration": 0.024597,
     "end_time": "2025-10-17T13:28:28.155414",
     "exception": false,
     "start_time": "2025-10-17T13:28:28.130817",
     "status": "completed"
    },
    "tags": []
   },
   "outputs": [],
   "source": [
    "import datetime\n",
    "current_year = datetime.datetime.now().year"
   ]
  },
  {
   "cell_type": "code",
   "execution_count": 44,
   "id": "0ee17ff4",
   "metadata": {
    "execution": {
     "iopub.execute_input": "2025-10-17T13:28:28.192087Z",
     "iopub.status.busy": "2025-10-17T13:28:28.191767Z",
     "iopub.status.idle": "2025-10-17T13:28:28.197709Z",
     "shell.execute_reply": "2025-10-17T13:28:28.196674Z"
    },
    "papermill": {
     "duration": 0.028066,
     "end_time": "2025-10-17T13:28:28.199597",
     "exception": false,
     "start_time": "2025-10-17T13:28:28.171531",
     "status": "completed"
    },
    "tags": []
   },
   "outputs": [],
   "source": [
    "df['age'] = current_year - df['year']"
   ]
  },
  {
   "cell_type": "code",
   "execution_count": 45,
   "id": "602ed5b6",
   "metadata": {
    "execution": {
     "iopub.execute_input": "2025-10-17T13:28:28.236947Z",
     "iopub.status.busy": "2025-10-17T13:28:28.236230Z",
     "iopub.status.idle": "2025-10-17T13:28:28.245087Z",
     "shell.execute_reply": "2025-10-17T13:28:28.244043Z"
    },
    "papermill": {
     "duration": 0.029763,
     "end_time": "2025-10-17T13:28:28.246982",
     "exception": false,
     "start_time": "2025-10-17T13:28:28.217219",
     "status": "completed"
    },
    "tags": []
   },
   "outputs": [
    {
     "data": {
      "text/plain": [
       "array([ 3,  4,  5,  6,  7, 12,  9, 11,  8, 10, 13,  2, 14, 25,  1, 15, 18,\n",
       "       16, 19, 17, 21, 23, 20, 22])"
      ]
     },
     "execution_count": 45,
     "metadata": {},
     "output_type": "execute_result"
    }
   ],
   "source": [
    "df['age'].unique()"
   ]
  },
  {
   "cell_type": "code",
   "execution_count": 46,
   "id": "09fed574",
   "metadata": {
    "execution": {
     "iopub.execute_input": "2025-10-17T13:28:28.282008Z",
     "iopub.status.busy": "2025-10-17T13:28:28.281707Z",
     "iopub.status.idle": "2025-10-17T13:28:28.289087Z",
     "shell.execute_reply": "2025-10-17T13:28:28.288089Z"
    },
    "papermill": {
     "duration": 0.026009,
     "end_time": "2025-10-17T13:28:28.290638",
     "exception": false,
     "start_time": "2025-10-17T13:28:28.264629",
     "status": "completed"
    },
    "tags": []
   },
   "outputs": [
    {
     "data": {
      "text/plain": [
       "array([2022, 2021, 2020, 2019, 2018, 2013, 2016, 2014, 2017, 2015, 2012,\n",
       "       2023, 2011, 2000, 2024, 2010, 2007, 2009, 2006, 2008, 2004, 2002,\n",
       "       2005, 2003])"
      ]
     },
     "execution_count": 46,
     "metadata": {},
     "output_type": "execute_result"
    }
   ],
   "source": [
    "df['year'].unique()"
   ]
  },
  {
   "cell_type": "code",
   "execution_count": 47,
   "id": "6612846a",
   "metadata": {
    "execution": {
     "iopub.execute_input": "2025-10-17T13:28:28.326614Z",
     "iopub.status.busy": "2025-10-17T13:28:28.325624Z",
     "iopub.status.idle": "2025-10-17T13:28:28.336978Z",
     "shell.execute_reply": "2025-10-17T13:28:28.335729Z"
    },
    "papermill": {
     "duration": 0.030912,
     "end_time": "2025-10-17T13:28:28.338834",
     "exception": false,
     "start_time": "2025-10-17T13:28:28.307922",
     "status": "completed"
    },
    "tags": []
   },
   "outputs": [
    {
     "name": "stdout",
     "output_type": "stream",
     "text": [
      "<class 'pandas.core.frame.DataFrame'>\n",
      "RangeIndex: 2840 entries, 0 to 2839\n",
      "Data columns (total 8 columns):\n",
      " #   Column         Non-Null Count  Dtype \n",
      "---  ------         --------------  ----- \n",
      " 0   name           2840 non-null   object\n",
      " 1   year           2840 non-null   int64 \n",
      " 2   miles          2840 non-null   int64 \n",
      " 3   price          2840 non-null   int64 \n",
      " 4   accidents      2840 non-null   int64 \n",
      " 5   owners         2840 non-null   int64 \n",
      " 6   brand_initial  2840 non-null   object\n",
      " 7   age            2840 non-null   int64 \n",
      "dtypes: int64(6), object(2)\n",
      "memory usage: 177.6+ KB\n"
     ]
    }
   ],
   "source": [
    "df.info()"
   ]
  },
  {
   "cell_type": "markdown",
   "id": "dc588abc",
   "metadata": {
    "papermill": {
     "duration": 0.016962,
     "end_time": "2025-10-17T13:28:28.372069",
     "exception": false,
     "start_time": "2025-10-17T13:28:28.355107",
     "status": "completed"
    },
    "tags": []
   },
   "source": [
    "# Train-Test Split"
   ]
  },
  {
   "cell_type": "code",
   "execution_count": 48,
   "id": "19ca1384",
   "metadata": {
    "execution": {
     "iopub.execute_input": "2025-10-17T13:28:28.408045Z",
     "iopub.status.busy": "2025-10-17T13:28:28.407689Z",
     "iopub.status.idle": "2025-10-17T13:28:28.791507Z",
     "shell.execute_reply": "2025-10-17T13:28:28.790362Z"
    },
    "papermill": {
     "duration": 0.403256,
     "end_time": "2025-10-17T13:28:28.793132",
     "exception": false,
     "start_time": "2025-10-17T13:28:28.389876",
     "status": "completed"
    },
    "tags": []
   },
   "outputs": [],
   "source": [
    "from sklearn.model_selection import train_test_split"
   ]
  },
  {
   "cell_type": "code",
   "execution_count": 49,
   "id": "e2b6729d",
   "metadata": {
    "execution": {
     "iopub.execute_input": "2025-10-17T13:28:28.829092Z",
     "iopub.status.busy": "2025-10-17T13:28:28.828747Z",
     "iopub.status.idle": "2025-10-17T13:28:28.835734Z",
     "shell.execute_reply": "2025-10-17T13:28:28.834832Z"
    },
    "papermill": {
     "duration": 0.026135,
     "end_time": "2025-10-17T13:28:28.837219",
     "exception": false,
     "start_time": "2025-10-17T13:28:28.811084",
     "status": "completed"
    },
    "tags": []
   },
   "outputs": [],
   "source": [
    "X = df[['brand_initial', 'miles', 'accidents', 'owners', 'age']]\n",
    "y= df['price']"
   ]
  },
  {
   "cell_type": "code",
   "execution_count": 50,
   "id": "d0118ee4",
   "metadata": {
    "execution": {
     "iopub.execute_input": "2025-10-17T13:28:28.874180Z",
     "iopub.status.busy": "2025-10-17T13:28:28.873871Z",
     "iopub.status.idle": "2025-10-17T13:28:28.883004Z",
     "shell.execute_reply": "2025-10-17T13:28:28.881840Z"
    },
    "papermill": {
     "duration": 0.029931,
     "end_time": "2025-10-17T13:28:28.884717",
     "exception": false,
     "start_time": "2025-10-17T13:28:28.854786",
     "status": "completed"
    },
    "tags": []
   },
   "outputs": [],
   "source": [
    "X_train, X_test, y_train, y_test = train_test_split(X, y, test_size=0.25, random_state=0)"
   ]
  },
  {
   "cell_type": "markdown",
   "id": "57129303",
   "metadata": {
    "papermill": {
     "duration": 0.017381,
     "end_time": "2025-10-17T13:28:28.918469",
     "exception": false,
     "start_time": "2025-10-17T13:28:28.901088",
     "status": "completed"
    },
    "tags": []
   },
   "source": [
    "# Target (Mean) Encoding by Brand Names"
   ]
  },
  {
   "cell_type": "code",
   "execution_count": 51,
   "id": "317febc1",
   "metadata": {
    "execution": {
     "iopub.execute_input": "2025-10-17T13:28:28.953941Z",
     "iopub.status.busy": "2025-10-17T13:28:28.953636Z",
     "iopub.status.idle": "2025-10-17T13:28:28.968760Z",
     "shell.execute_reply": "2025-10-17T13:28:28.967856Z"
    },
    "papermill": {
     "duration": 0.034356,
     "end_time": "2025-10-17T13:28:28.970653",
     "exception": false,
     "start_time": "2025-10-17T13:28:28.936297",
     "status": "completed"
    },
    "tags": []
   },
   "outputs": [],
   "source": [
    "brand_mean_map = X_train.join(y_train).groupby('brand_initial')['price'].mean()"
   ]
  },
  {
   "cell_type": "code",
   "execution_count": 52,
   "id": "65c44269",
   "metadata": {
    "execution": {
     "iopub.execute_input": "2025-10-17T13:28:29.005507Z",
     "iopub.status.busy": "2025-10-17T13:28:29.005190Z",
     "iopub.status.idle": "2025-10-17T13:28:29.013722Z",
     "shell.execute_reply": "2025-10-17T13:28:29.012574Z"
    },
    "papermill": {
     "duration": 0.027634,
     "end_time": "2025-10-17T13:28:29.015256",
     "exception": false,
     "start_time": "2025-10-17T13:28:28.987622",
     "status": "completed"
    },
    "tags": []
   },
   "outputs": [],
   "source": [
    "X_train['brand_encoded'] = X_train['brand_initial'].map(brand_mean_map)\n",
    "X_test['brand_encoded'] = X_test['brand_initial'].map(brand_mean_map)"
   ]
  },
  {
   "cell_type": "code",
   "execution_count": 53,
   "id": "695e81e5",
   "metadata": {
    "execution": {
     "iopub.execute_input": "2025-10-17T13:28:29.050227Z",
     "iopub.status.busy": "2025-10-17T13:28:29.049380Z",
     "iopub.status.idle": "2025-10-17T13:28:29.056091Z",
     "shell.execute_reply": "2025-10-17T13:28:29.055302Z"
    },
    "papermill": {
     "duration": 0.025653,
     "end_time": "2025-10-17T13:28:29.057669",
     "exception": false,
     "start_time": "2025-10-17T13:28:29.032016",
     "status": "completed"
    },
    "tags": []
   },
   "outputs": [],
   "source": [
    "X_train.drop('brand_initial', axis=1, inplace=True)\n",
    "X_test.drop('brand_initial', axis=1, inplace=True)"
   ]
  },
  {
   "cell_type": "code",
   "execution_count": 54,
   "id": "5f783986",
   "metadata": {
    "execution": {
     "iopub.execute_input": "2025-10-17T13:28:29.092092Z",
     "iopub.status.busy": "2025-10-17T13:28:29.091808Z",
     "iopub.status.idle": "2025-10-17T13:28:29.101896Z",
     "shell.execute_reply": "2025-10-17T13:28:29.100780Z"
    },
    "papermill": {
     "duration": 0.028949,
     "end_time": "2025-10-17T13:28:29.103423",
     "exception": false,
     "start_time": "2025-10-17T13:28:29.074474",
     "status": "completed"
    },
    "tags": []
   },
   "outputs": [
    {
     "data": {
      "text/html": [
       "<div>\n",
       "<style scoped>\n",
       "    .dataframe tbody tr th:only-of-type {\n",
       "        vertical-align: middle;\n",
       "    }\n",
       "\n",
       "    .dataframe tbody tr th {\n",
       "        vertical-align: top;\n",
       "    }\n",
       "\n",
       "    .dataframe thead th {\n",
       "        text-align: right;\n",
       "    }\n",
       "</style>\n",
       "<table border=\"1\" class=\"dataframe\">\n",
       "  <thead>\n",
       "    <tr style=\"text-align: right;\">\n",
       "      <th></th>\n",
       "      <th>miles</th>\n",
       "      <th>accidents</th>\n",
       "      <th>owners</th>\n",
       "      <th>age</th>\n",
       "      <th>brand_encoded</th>\n",
       "    </tr>\n",
       "  </thead>\n",
       "  <tbody>\n",
       "    <tr>\n",
       "      <th>1451</th>\n",
       "      <td>64053</td>\n",
       "      <td>1</td>\n",
       "      <td>2</td>\n",
       "      <td>6</td>\n",
       "      <td>23504.628159</td>\n",
       "    </tr>\n",
       "    <tr>\n",
       "      <th>39</th>\n",
       "      <td>36853</td>\n",
       "      <td>1</td>\n",
       "      <td>1</td>\n",
       "      <td>5</td>\n",
       "      <td>23504.628159</td>\n",
       "    </tr>\n",
       "    <tr>\n",
       "      <th>2069</th>\n",
       "      <td>34829</td>\n",
       "      <td>0</td>\n",
       "      <td>2</td>\n",
       "      <td>12</td>\n",
       "      <td>21029.571429</td>\n",
       "    </tr>\n",
       "    <tr>\n",
       "      <th>1866</th>\n",
       "      <td>23493</td>\n",
       "      <td>0</td>\n",
       "      <td>1</td>\n",
       "      <td>5</td>\n",
       "      <td>17479.853933</td>\n",
       "    </tr>\n",
       "    <tr>\n",
       "      <th>2314</th>\n",
       "      <td>245646</td>\n",
       "      <td>0</td>\n",
       "      <td>1</td>\n",
       "      <td>9</td>\n",
       "      <td>24918.704082</td>\n",
       "    </tr>\n",
       "  </tbody>\n",
       "</table>\n",
       "</div>"
      ],
      "text/plain": [
       "       miles  accidents  owners  age  brand_encoded\n",
       "1451   64053          1       2    6   23504.628159\n",
       "39     36853          1       1    5   23504.628159\n",
       "2069   34829          0       2   12   21029.571429\n",
       "1866   23493          0       1    5   17479.853933\n",
       "2314  245646          0       1    9   24918.704082"
      ]
     },
     "execution_count": 54,
     "metadata": {},
     "output_type": "execute_result"
    }
   ],
   "source": [
    "X_train.head()"
   ]
  },
  {
   "cell_type": "code",
   "execution_count": 55,
   "id": "7a41ae45",
   "metadata": {
    "execution": {
     "iopub.execute_input": "2025-10-17T13:28:29.139931Z",
     "iopub.status.busy": "2025-10-17T13:28:29.139605Z",
     "iopub.status.idle": "2025-10-17T13:28:29.150015Z",
     "shell.execute_reply": "2025-10-17T13:28:29.148779Z"
    },
    "papermill": {
     "duration": 0.030966,
     "end_time": "2025-10-17T13:28:29.151762",
     "exception": false,
     "start_time": "2025-10-17T13:28:29.120796",
     "status": "completed"
    },
    "tags": []
   },
   "outputs": [
    {
     "data": {
      "text/html": [
       "<div>\n",
       "<style scoped>\n",
       "    .dataframe tbody tr th:only-of-type {\n",
       "        vertical-align: middle;\n",
       "    }\n",
       "\n",
       "    .dataframe tbody tr th {\n",
       "        vertical-align: top;\n",
       "    }\n",
       "\n",
       "    .dataframe thead th {\n",
       "        text-align: right;\n",
       "    }\n",
       "</style>\n",
       "<table border=\"1\" class=\"dataframe\">\n",
       "  <thead>\n",
       "    <tr style=\"text-align: right;\">\n",
       "      <th></th>\n",
       "      <th>miles</th>\n",
       "      <th>accidents</th>\n",
       "      <th>owners</th>\n",
       "      <th>age</th>\n",
       "      <th>brand_encoded</th>\n",
       "    </tr>\n",
       "  </thead>\n",
       "  <tbody>\n",
       "    <tr>\n",
       "      <th>1068</th>\n",
       "      <td>9620</td>\n",
       "      <td>0</td>\n",
       "      <td>1</td>\n",
       "      <td>4</td>\n",
       "      <td>28688.202797</td>\n",
       "    </tr>\n",
       "    <tr>\n",
       "      <th>2016</th>\n",
       "      <td>36151</td>\n",
       "      <td>0</td>\n",
       "      <td>1</td>\n",
       "      <td>3</td>\n",
       "      <td>26620.170213</td>\n",
       "    </tr>\n",
       "    <tr>\n",
       "      <th>317</th>\n",
       "      <td>57114</td>\n",
       "      <td>1</td>\n",
       "      <td>1</td>\n",
       "      <td>10</td>\n",
       "      <td>15670.263158</td>\n",
       "    </tr>\n",
       "    <tr>\n",
       "      <th>2045</th>\n",
       "      <td>6056</td>\n",
       "      <td>0</td>\n",
       "      <td>1</td>\n",
       "      <td>2</td>\n",
       "      <td>28688.202797</td>\n",
       "    </tr>\n",
       "    <tr>\n",
       "      <th>2279</th>\n",
       "      <td>14627</td>\n",
       "      <td>0</td>\n",
       "      <td>1</td>\n",
       "      <td>2</td>\n",
       "      <td>23504.628159</td>\n",
       "    </tr>\n",
       "  </tbody>\n",
       "</table>\n",
       "</div>"
      ],
      "text/plain": [
       "      miles  accidents  owners  age  brand_encoded\n",
       "1068   9620          0       1    4   28688.202797\n",
       "2016  36151          0       1    3   26620.170213\n",
       "317   57114          1       1   10   15670.263158\n",
       "2045   6056          0       1    2   28688.202797\n",
       "2279  14627          0       1    2   23504.628159"
      ]
     },
     "execution_count": 55,
     "metadata": {},
     "output_type": "execute_result"
    }
   ],
   "source": [
    "X_test.head()"
   ]
  },
  {
   "cell_type": "code",
   "execution_count": 56,
   "id": "35af28f3",
   "metadata": {
    "execution": {
     "iopub.execute_input": "2025-10-17T13:28:29.188920Z",
     "iopub.status.busy": "2025-10-17T13:28:29.188047Z",
     "iopub.status.idle": "2025-10-17T13:28:29.196182Z",
     "shell.execute_reply": "2025-10-17T13:28:29.194772Z"
    },
    "papermill": {
     "duration": 0.028654,
     "end_time": "2025-10-17T13:28:29.197751",
     "exception": false,
     "start_time": "2025-10-17T13:28:29.169097",
     "status": "completed"
    },
    "tags": []
   },
   "outputs": [
    {
     "name": "stdout",
     "output_type": "stream",
     "text": [
      "[28688.2027972  26620.17021277 15670.26315789 23504.62815884\n",
      " 21529.42541436 17380.52747253 30199.88095238 32429.76086957\n",
      " 18074.14285714 24918.70408163 32859.2625     25837.35064935\n",
      " 17479.85393258 31722.26086957 31513.79116466 26478.41584158\n",
      " 22496.         33224.66666667 32732.35       22494.125\n",
      " 26556.28571429 22516.43243243 36028.16666667 45717.88235294\n",
      " 21029.57142857 24688.33333333 17837.06666667 32611.8\n",
      " 23069.14285714 29870.875      63728.         13497.\n",
      " 37224.5                   nan 11347.5       ]\n",
      "[ 23504.62815884  21029.57142857  17479.85393258  24918.70408163\n",
      "  25837.35064935  32859.2625      26620.17021277  17380.52747253\n",
      "  21529.42541436  32611.8         26478.41584158  24751.77777778\n",
      "  17837.06666667  31513.79116466  28688.2027972   22494.125\n",
      "  32429.76086957  32732.35        22516.43243243  23069.14285714\n",
      "  36028.16666667  30199.88095238  15670.26315789  31722.26086957\n",
      "  22496.          26556.28571429  29870.875       45717.88235294\n",
      "  18074.14285714  33224.66666667  11347.5         24688.33333333\n",
      " 219999.          11099.33333333  11795.          13497.\n",
      "  84225.33333333  37224.5         63728.           5599.\n",
      "  28995.        ]\n"
     ]
    }
   ],
   "source": [
    "print(X_test['brand_encoded'].unique())\n",
    "print(X_train['brand_encoded'].unique())"
   ]
  },
  {
   "cell_type": "code",
   "execution_count": 57,
   "id": "99c6932d",
   "metadata": {
    "execution": {
     "iopub.execute_input": "2025-10-17T13:28:29.233433Z",
     "iopub.status.busy": "2025-10-17T13:28:29.233088Z",
     "iopub.status.idle": "2025-10-17T13:28:29.239717Z",
     "shell.execute_reply": "2025-10-17T13:28:29.238427Z"
    },
    "papermill": {
     "duration": 0.026835,
     "end_time": "2025-10-17T13:28:29.241694",
     "exception": false,
     "start_time": "2025-10-17T13:28:29.214859",
     "status": "completed"
    },
    "tags": []
   },
   "outputs": [
    {
     "name": "stderr",
     "output_type": "stream",
     "text": [
      "/tmp/ipykernel_13/2255075146.py:2: FutureWarning: A value is trying to be set on a copy of a DataFrame or Series through chained assignment using an inplace method.\n",
      "The behavior will change in pandas 3.0. This inplace method will never work because the intermediate object on which we are setting values always behaves as a copy.\n",
      "\n",
      "For example, when doing 'df[col].method(value, inplace=True)', try using 'df.method({col: value}, inplace=True)' or df[col] = df[col].method(value) instead, to perform the operation inplace on the original object.\n",
      "\n",
      "\n",
      "  X_test['brand_encoded'].fillna(overall_mean, inplace=True)\n"
     ]
    }
   ],
   "source": [
    "overall_mean = y_train.mean()\n",
    "X_test['brand_encoded'].fillna(overall_mean, inplace=True)"
   ]
  },
  {
   "cell_type": "markdown",
   "id": "a830cfba",
   "metadata": {
    "papermill": {
     "duration": 0.017756,
     "end_time": "2025-10-17T13:28:29.278588",
     "exception": false,
     "start_time": "2025-10-17T13:28:29.260832",
     "status": "completed"
    },
    "tags": []
   },
   "source": [
    "# Standard Scaling"
   ]
  },
  {
   "cell_type": "code",
   "execution_count": 58,
   "id": "5b73b079",
   "metadata": {
    "execution": {
     "iopub.execute_input": "2025-10-17T13:28:29.316449Z",
     "iopub.status.busy": "2025-10-17T13:28:29.316126Z",
     "iopub.status.idle": "2025-10-17T13:28:29.320808Z",
     "shell.execute_reply": "2025-10-17T13:28:29.319848Z"
    },
    "papermill": {
     "duration": 0.024644,
     "end_time": "2025-10-17T13:28:29.322574",
     "exception": false,
     "start_time": "2025-10-17T13:28:29.297930",
     "status": "completed"
    },
    "tags": []
   },
   "outputs": [],
   "source": [
    "from sklearn.preprocessing import StandardScaler"
   ]
  },
  {
   "cell_type": "code",
   "execution_count": 59,
   "id": "15efc0a9",
   "metadata": {
    "execution": {
     "iopub.execute_input": "2025-10-17T13:28:29.358370Z",
     "iopub.status.busy": "2025-10-17T13:28:29.358060Z",
     "iopub.status.idle": "2025-10-17T13:28:29.362426Z",
     "shell.execute_reply": "2025-10-17T13:28:29.361556Z"
    },
    "papermill": {
     "duration": 0.02412,
     "end_time": "2025-10-17T13:28:29.363812",
     "exception": false,
     "start_time": "2025-10-17T13:28:29.339692",
     "status": "completed"
    },
    "tags": []
   },
   "outputs": [],
   "source": [
    "scaler = StandardScaler()"
   ]
  },
  {
   "cell_type": "code",
   "execution_count": 60,
   "id": "81162823",
   "metadata": {
    "execution": {
     "iopub.execute_input": "2025-10-17T13:28:29.400648Z",
     "iopub.status.busy": "2025-10-17T13:28:29.400315Z",
     "iopub.status.idle": "2025-10-17T13:28:29.425289Z",
     "shell.execute_reply": "2025-10-17T13:28:29.424247Z"
    },
    "papermill": {
     "duration": 0.045398,
     "end_time": "2025-10-17T13:28:29.427235",
     "exception": false,
     "start_time": "2025-10-17T13:28:29.381837",
     "status": "completed"
    },
    "tags": []
   },
   "outputs": [],
   "source": [
    "X_train = scaler.fit_transform(X_train)\n",
    "X_test = scaler.transform(X_test)"
   ]
  },
  {
   "cell_type": "markdown",
   "id": "ad83bb0d",
   "metadata": {
    "papermill": {
     "duration": 0.017274,
     "end_time": "2025-10-17T13:28:29.462090",
     "exception": false,
     "start_time": "2025-10-17T13:28:29.444816",
     "status": "completed"
    },
    "tags": []
   },
   "source": [
    "# Decision Tree Regressor"
   ]
  },
  {
   "cell_type": "code",
   "execution_count": 61,
   "id": "bb767dfa",
   "metadata": {
    "execution": {
     "iopub.execute_input": "2025-10-17T13:28:29.498223Z",
     "iopub.status.busy": "2025-10-17T13:28:29.497920Z",
     "iopub.status.idle": "2025-10-17T13:28:29.822899Z",
     "shell.execute_reply": "2025-10-17T13:28:29.821854Z"
    },
    "papermill": {
     "duration": 0.345415,
     "end_time": "2025-10-17T13:28:29.824738",
     "exception": false,
     "start_time": "2025-10-17T13:28:29.479323",
     "status": "completed"
    },
    "tags": []
   },
   "outputs": [],
   "source": [
    "from sklearn.tree import DecisionTreeRegressor"
   ]
  },
  {
   "cell_type": "code",
   "execution_count": 62,
   "id": "76ef8389",
   "metadata": {
    "execution": {
     "iopub.execute_input": "2025-10-17T13:28:29.861135Z",
     "iopub.status.busy": "2025-10-17T13:28:29.860775Z",
     "iopub.status.idle": "2025-10-17T13:28:29.865600Z",
     "shell.execute_reply": "2025-10-17T13:28:29.864490Z"
    },
    "papermill": {
     "duration": 0.025033,
     "end_time": "2025-10-17T13:28:29.867169",
     "exception": false,
     "start_time": "2025-10-17T13:28:29.842136",
     "status": "completed"
    },
    "tags": []
   },
   "outputs": [],
   "source": [
    "dtr = DecisionTreeRegressor()"
   ]
  },
  {
   "cell_type": "code",
   "execution_count": 63,
   "id": "6aa8f265",
   "metadata": {
    "execution": {
     "iopub.execute_input": "2025-10-17T13:28:29.905257Z",
     "iopub.status.busy": "2025-10-17T13:28:29.904982Z",
     "iopub.status.idle": "2025-10-17T13:28:29.923921Z",
     "shell.execute_reply": "2025-10-17T13:28:29.922884Z"
    },
    "papermill": {
     "duration": 0.03894,
     "end_time": "2025-10-17T13:28:29.925720",
     "exception": false,
     "start_time": "2025-10-17T13:28:29.886780",
     "status": "completed"
    },
    "tags": []
   },
   "outputs": [
    {
     "data": {
      "text/html": [
       "<style>#sk-container-id-1 {color: black;background-color: white;}#sk-container-id-1 pre{padding: 0;}#sk-container-id-1 div.sk-toggleable {background-color: white;}#sk-container-id-1 label.sk-toggleable__label {cursor: pointer;display: block;width: 100%;margin-bottom: 0;padding: 0.3em;box-sizing: border-box;text-align: center;}#sk-container-id-1 label.sk-toggleable__label-arrow:before {content: \"▸\";float: left;margin-right: 0.25em;color: #696969;}#sk-container-id-1 label.sk-toggleable__label-arrow:hover:before {color: black;}#sk-container-id-1 div.sk-estimator:hover label.sk-toggleable__label-arrow:before {color: black;}#sk-container-id-1 div.sk-toggleable__content {max-height: 0;max-width: 0;overflow: hidden;text-align: left;background-color: #f0f8ff;}#sk-container-id-1 div.sk-toggleable__content pre {margin: 0.2em;color: black;border-radius: 0.25em;background-color: #f0f8ff;}#sk-container-id-1 input.sk-toggleable__control:checked~div.sk-toggleable__content {max-height: 200px;max-width: 100%;overflow: auto;}#sk-container-id-1 input.sk-toggleable__control:checked~label.sk-toggleable__label-arrow:before {content: \"▾\";}#sk-container-id-1 div.sk-estimator input.sk-toggleable__control:checked~label.sk-toggleable__label {background-color: #d4ebff;}#sk-container-id-1 div.sk-label input.sk-toggleable__control:checked~label.sk-toggleable__label {background-color: #d4ebff;}#sk-container-id-1 input.sk-hidden--visually {border: 0;clip: rect(1px 1px 1px 1px);clip: rect(1px, 1px, 1px, 1px);height: 1px;margin: -1px;overflow: hidden;padding: 0;position: absolute;width: 1px;}#sk-container-id-1 div.sk-estimator {font-family: monospace;background-color: #f0f8ff;border: 1px dotted black;border-radius: 0.25em;box-sizing: border-box;margin-bottom: 0.5em;}#sk-container-id-1 div.sk-estimator:hover {background-color: #d4ebff;}#sk-container-id-1 div.sk-parallel-item::after {content: \"\";width: 100%;border-bottom: 1px solid gray;flex-grow: 1;}#sk-container-id-1 div.sk-label:hover label.sk-toggleable__label {background-color: #d4ebff;}#sk-container-id-1 div.sk-serial::before {content: \"\";position: absolute;border-left: 1px solid gray;box-sizing: border-box;top: 0;bottom: 0;left: 50%;z-index: 0;}#sk-container-id-1 div.sk-serial {display: flex;flex-direction: column;align-items: center;background-color: white;padding-right: 0.2em;padding-left: 0.2em;position: relative;}#sk-container-id-1 div.sk-item {position: relative;z-index: 1;}#sk-container-id-1 div.sk-parallel {display: flex;align-items: stretch;justify-content: center;background-color: white;position: relative;}#sk-container-id-1 div.sk-item::before, #sk-container-id-1 div.sk-parallel-item::before {content: \"\";position: absolute;border-left: 1px solid gray;box-sizing: border-box;top: 0;bottom: 0;left: 50%;z-index: -1;}#sk-container-id-1 div.sk-parallel-item {display: flex;flex-direction: column;z-index: 1;position: relative;background-color: white;}#sk-container-id-1 div.sk-parallel-item:first-child::after {align-self: flex-end;width: 50%;}#sk-container-id-1 div.sk-parallel-item:last-child::after {align-self: flex-start;width: 50%;}#sk-container-id-1 div.sk-parallel-item:only-child::after {width: 0;}#sk-container-id-1 div.sk-dashed-wrapped {border: 1px dashed gray;margin: 0 0.4em 0.5em 0.4em;box-sizing: border-box;padding-bottom: 0.4em;background-color: white;}#sk-container-id-1 div.sk-label label {font-family: monospace;font-weight: bold;display: inline-block;line-height: 1.2em;}#sk-container-id-1 div.sk-label-container {text-align: center;}#sk-container-id-1 div.sk-container {/* jupyter's `normalize.less` sets `[hidden] { display: none; }` but bootstrap.min.css set `[hidden] { display: none !important; }` so we also need the `!important` here to be able to override the default hidden behavior on the sphinx rendered scikit-learn.org. See: https://github.com/scikit-learn/scikit-learn/issues/21755 */display: inline-block !important;position: relative;}#sk-container-id-1 div.sk-text-repr-fallback {display: none;}</style><div id=\"sk-container-id-1\" class=\"sk-top-container\"><div class=\"sk-text-repr-fallback\"><pre>DecisionTreeRegressor()</pre><b>In a Jupyter environment, please rerun this cell to show the HTML representation or trust the notebook. <br />On GitHub, the HTML representation is unable to render, please try loading this page with nbviewer.org.</b></div><div class=\"sk-container\" hidden><div class=\"sk-item\"><div class=\"sk-estimator sk-toggleable\"><input class=\"sk-toggleable__control sk-hidden--visually\" id=\"sk-estimator-id-1\" type=\"checkbox\" checked><label for=\"sk-estimator-id-1\" class=\"sk-toggleable__label sk-toggleable__label-arrow\">DecisionTreeRegressor</label><div class=\"sk-toggleable__content\"><pre>DecisionTreeRegressor()</pre></div></div></div></div></div>"
      ],
      "text/plain": [
       "DecisionTreeRegressor()"
      ]
     },
     "execution_count": 63,
     "metadata": {},
     "output_type": "execute_result"
    }
   ],
   "source": [
    "dtr.fit(X_train, y_train)"
   ]
  },
  {
   "cell_type": "code",
   "execution_count": 64,
   "id": "43580dc8",
   "metadata": {
    "execution": {
     "iopub.execute_input": "2025-10-17T13:28:29.967964Z",
     "iopub.status.busy": "2025-10-17T13:28:29.967616Z",
     "iopub.status.idle": "2025-10-17T13:28:29.972229Z",
     "shell.execute_reply": "2025-10-17T13:28:29.971374Z"
    },
    "papermill": {
     "duration": 0.028055,
     "end_time": "2025-10-17T13:28:29.974106",
     "exception": false,
     "start_time": "2025-10-17T13:28:29.946051",
     "status": "completed"
    },
    "tags": []
   },
   "outputs": [],
   "source": [
    "from sklearn.metrics import r2_score, mean_absolute_error, mean_squared_error"
   ]
  },
  {
   "cell_type": "code",
   "execution_count": 65,
   "id": "4e73d727",
   "metadata": {
    "execution": {
     "iopub.execute_input": "2025-10-17T13:28:30.012569Z",
     "iopub.status.busy": "2025-10-17T13:28:30.012202Z",
     "iopub.status.idle": "2025-10-17T13:28:30.018292Z",
     "shell.execute_reply": "2025-10-17T13:28:30.017281Z"
    },
    "papermill": {
     "duration": 0.027562,
     "end_time": "2025-10-17T13:28:30.019857",
     "exception": false,
     "start_time": "2025-10-17T13:28:29.992295",
     "status": "completed"
    },
    "tags": []
   },
   "outputs": [],
   "source": [
    "y_pred = dtr.predict(X_test)"
   ]
  },
  {
   "cell_type": "code",
   "execution_count": 66,
   "id": "a2f5f9af",
   "metadata": {
    "execution": {
     "iopub.execute_input": "2025-10-17T13:28:30.057037Z",
     "iopub.status.busy": "2025-10-17T13:28:30.056614Z",
     "iopub.status.idle": "2025-10-17T13:28:30.065115Z",
     "shell.execute_reply": "2025-10-17T13:28:30.064096Z"
    },
    "papermill": {
     "duration": 0.029294,
     "end_time": "2025-10-17T13:28:30.066988",
     "exception": false,
     "start_time": "2025-10-17T13:28:30.037694",
     "status": "completed"
    },
    "tags": []
   },
   "outputs": [
    {
     "name": "stdout",
     "output_type": "stream",
     "text": [
      "R2 Score:  0.2315466447927923\n",
      "MAE:  5620.48779342723\n",
      "MSE:  165349384.25931144\n"
     ]
    }
   ],
   "source": [
    "print('R2 Score: ', r2_score(y_test, y_pred))\n",
    "print('MAE: ', mean_absolute_error(y_test, y_pred))\n",
    "print('MSE: ', mean_squared_error(y_test, y_pred))"
   ]
  },
  {
   "cell_type": "code",
   "execution_count": 67,
   "id": "35109e2d",
   "metadata": {
    "execution": {
     "iopub.execute_input": "2025-10-17T13:28:30.105133Z",
     "iopub.status.busy": "2025-10-17T13:28:30.104864Z",
     "iopub.status.idle": "2025-10-17T13:28:30.109601Z",
     "shell.execute_reply": "2025-10-17T13:28:30.108611Z"
    },
    "papermill": {
     "duration": 0.025815,
     "end_time": "2025-10-17T13:28:30.111202",
     "exception": false,
     "start_time": "2025-10-17T13:28:30.085387",
     "status": "completed"
    },
    "tags": []
   },
   "outputs": [],
   "source": [
    "from sklearn import tree"
   ]
  },
  {
   "cell_type": "code",
   "execution_count": 68,
   "id": "2336b855",
   "metadata": {
    "execution": {
     "iopub.execute_input": "2025-10-17T13:28:30.148526Z",
     "iopub.status.busy": "2025-10-17T13:28:30.148174Z",
     "iopub.status.idle": "2025-10-17T13:30:08.083367Z",
     "shell.execute_reply": "2025-10-17T13:30:08.082348Z"
    },
    "papermill": {
     "duration": 97.977104,
     "end_time": "2025-10-17T13:30:08.106059",
     "exception": false,
     "start_time": "2025-10-17T13:28:30.128955",
     "status": "completed"
    },
    "tags": []
   },
   "outputs": [
    {
     "data": {
      "image/png": "[encoded data removed]",
      "text/plain": [
       "<Figure size 640x480 with 1 Axes>"
      ]
     },
     "metadata": {},
     "output_type": "display_data"
    }
   ],
   "source": [
    "tree.plot_tree(dtr)\n",
    "plt.show()"
   ]
  },
  {
   "cell_type": "code",
   "execution_count": 69,
   "id": "7ea56f78",
   "metadata": {
    "execution": {
     "iopub.execute_input": "2025-10-17T13:30:08.146680Z",
     "iopub.status.busy": "2025-10-17T13:30:08.146363Z",
     "iopub.status.idle": "2025-10-17T13:30:08.151992Z",
     "shell.execute_reply": "2025-10-17T13:30:08.151074Z"
    },
    "papermill": {
     "duration": 0.028541,
     "end_time": "2025-10-17T13:30:08.153630",
     "exception": false,
     "start_time": "2025-10-17T13:30:08.125089",
     "status": "completed"
    },
    "tags": []
   },
   "outputs": [],
   "source": [
    "from sklearn.model_selection import GridSearchCV"
   ]
  },
  {
   "cell_type": "code",
   "execution_count": 70,
   "id": "96e8894d",
   "metadata": {
    "execution": {
     "iopub.execute_input": "2025-10-17T13:30:08.195404Z",
     "iopub.status.busy": "2025-10-17T13:30:08.195059Z",
     "iopub.status.idle": "2025-10-17T13:30:08.200107Z",
     "shell.execute_reply": "2025-10-17T13:30:08.199047Z"
    },
    "papermill": {
     "duration": 0.028926,
     "end_time": "2025-10-17T13:30:08.202070",
     "exception": false,
     "start_time": "2025-10-17T13:30:08.173144",
     "status": "completed"
    },
    "tags": []
   },
   "outputs": [],
   "source": [
    "params = {\n",
    "    'criterion':['squared_error', 'friedman_mse', 'absolute_error', 'poisson'],\n",
    "    'splitter': ['best', 'random'],\n",
    "    'max_depth':[3,4,5,6,7,8,9,10,15,None],\n",
    "    'max_features':['sqrt','log2',None]\n",
    "}"
   ]
  },
  {
   "cell_type": "code",
   "execution_count": 71,
   "id": "c0b38682",
   "metadata": {
    "execution": {
     "iopub.execute_input": "2025-10-17T13:30:08.242880Z",
     "iopub.status.busy": "2025-10-17T13:30:08.242595Z",
     "iopub.status.idle": "2025-10-17T13:30:08.247667Z",
     "shell.execute_reply": "2025-10-17T13:30:08.246543Z"
    },
    "papermill": {
     "duration": 0.027208,
     "end_time": "2025-10-17T13:30:08.249416",
     "exception": false,
     "start_time": "2025-10-17T13:30:08.222208",
     "status": "completed"
    },
    "tags": []
   },
   "outputs": [],
   "source": [
    "grid = GridSearchCV(DecisionTreeRegressor(), params)"
   ]
  },
  {
   "cell_type": "code",
   "execution_count": 72,
   "id": "78ac399d",
   "metadata": {
    "execution": {
     "iopub.execute_input": "2025-10-17T13:30:08.290080Z",
     "iopub.status.busy": "2025-10-17T13:30:08.289237Z",
     "iopub.status.idle": "2025-10-17T13:30:20.317897Z",
     "shell.execute_reply": "2025-10-17T13:30:20.316583Z"
    },
    "papermill": {
     "duration": 12.050338,
     "end_time": "2025-10-17T13:30:20.319549",
     "exception": false,
     "start_time": "2025-10-17T13:30:08.269211",
     "status": "completed"
    },
    "tags": []
   },
   "outputs": [
    {
     "data": {
      "text/html": [
       "<style>#sk-container-id-2 {color: black;background-color: white;}#sk-container-id-2 pre{padding: 0;}#sk-container-id-2 div.sk-toggleable {background-color: white;}#sk-container-id-2 label.sk-toggleable__label {cursor: pointer;display: block;width: 100%;margin-bottom: 0;padding: 0.3em;box-sizing: border-box;text-align: center;}#sk-container-id-2 label.sk-toggleable__label-arrow:before {content: \"▸\";float: left;margin-right: 0.25em;color: #696969;}#sk-container-id-2 label.sk-toggleable__label-arrow:hover:before {color: black;}#sk-container-id-2 div.sk-estimator:hover label.sk-toggleable__label-arrow:before {color: black;}#sk-container-id-2 div.sk-toggleable__content {max-height: 0;max-width: 0;overflow: hidden;text-align: left;background-color: #f0f8ff;}#sk-container-id-2 div.sk-toggleable__content pre {margin: 0.2em;color: black;border-radius: 0.25em;background-color: #f0f8ff;}#sk-container-id-2 input.sk-toggleable__control:checked~div.sk-toggleable__content {max-height: 200px;max-width: 100%;overflow: auto;}#sk-container-id-2 input.sk-toggleable__control:checked~label.sk-toggleable__label-arrow:before {content: \"▾\";}#sk-container-id-2 div.sk-estimator input.sk-toggleable__control:checked~label.sk-toggleable__label {background-color: #d4ebff;}#sk-container-id-2 div.sk-label input.sk-toggleable__control:checked~label.sk-toggleable__label {background-color: #d4ebff;}#sk-container-id-2 input.sk-hidden--visually {border: 0;clip: rect(1px 1px 1px 1px);clip: rect(1px, 1px, 1px, 1px);height: 1px;margin: -1px;overflow: hidden;padding: 0;position: absolute;width: 1px;}#sk-container-id-2 div.sk-estimator {font-family: monospace;background-color: #f0f8ff;border: 1px dotted black;border-radius: 0.25em;box-sizing: border-box;margin-bottom: 0.5em;}#sk-container-id-2 div.sk-estimator:hover {background-color: #d4ebff;}#sk-container-id-2 div.sk-parallel-item::after {content: \"\";width: 100%;border-bottom: 1px solid gray;flex-grow: 1;}#sk-container-id-2 div.sk-label:hover label.sk-toggleable__label {background-color: #d4ebff;}#sk-container-id-2 div.sk-serial::before {content: \"\";position: absolute;border-left: 1px solid gray;box-sizing: border-box;top: 0;bottom: 0;left: 50%;z-index: 0;}#sk-container-id-2 div.sk-serial {display: flex;flex-direction: column;align-items: center;background-color: white;padding-right: 0.2em;padding-left: 0.2em;position: relative;}#sk-container-id-2 div.sk-item {position: relative;z-index: 1;}#sk-container-id-2 div.sk-parallel {display: flex;align-items: stretch;justify-content: center;background-color: white;position: relative;}#sk-container-id-2 div.sk-item::before, #sk-container-id-2 div.sk-parallel-item::before {content: \"\";position: absolute;border-left: 1px solid gray;box-sizing: border-box;top: 0;bottom: 0;left: 50%;z-index: -1;}#sk-container-id-2 div.sk-parallel-item {display: flex;flex-direction: column;z-index: 1;position: relative;background-color: white;}#sk-container-id-2 div.sk-parallel-item:first-child::after {align-self: flex-end;width: 50%;}#sk-container-id-2 div.sk-parallel-item:last-child::after {align-self: flex-start;width: 50%;}#sk-container-id-2 div.sk-parallel-item:only-child::after {width: 0;}#sk-container-id-2 div.sk-dashed-wrapped {border: 1px dashed gray;margin: 0 0.4em 0.5em 0.4em;box-sizing: border-box;padding-bottom: 0.4em;background-color: white;}#sk-container-id-2 div.sk-label label {font-family: monospace;font-weight: bold;display: inline-block;line-height: 1.2em;}#sk-container-id-2 div.sk-label-container {text-align: center;}#sk-container-id-2 div.sk-container {/* jupyter's `normalize.less` sets `[hidden] { display: none; }` but bootstrap.min.css set `[hidden] { display: none !important; }` so we also need the `!important` here to be able to override the default hidden behavior on the sphinx rendered scikit-learn.org. See: https://github.com/scikit-learn/scikit-learn/issues/21755 */display: inline-block !important;position: relative;}#sk-container-id-2 div.sk-text-repr-fallback {display: none;}</style><div id=\"sk-container-id-2\" class=\"sk-top-container\"><div class=\"sk-text-repr-fallback\"><pre>GridSearchCV(estimator=DecisionTreeRegressor(),\n",
       "             param_grid={&#x27;criterion&#x27;: [&#x27;squared_error&#x27;, &#x27;friedman_mse&#x27;,\n",
       "                                       &#x27;absolute_error&#x27;, &#x27;poisson&#x27;],\n",
       "                         &#x27;max_depth&#x27;: [3, 4, 5, 6, 7, 8, 9, 10, 15, None],\n",
       "                         &#x27;max_features&#x27;: [&#x27;sqrt&#x27;, &#x27;log2&#x27;, None],\n",
       "                         &#x27;splitter&#x27;: [&#x27;best&#x27;, &#x27;random&#x27;]})</pre><b>In a Jupyter environment, please rerun this cell to show the HTML representation or trust the notebook. <br />On GitHub, the HTML representation is unable to render, please try loading this page with nbviewer.org.</b></div><div class=\"sk-container\" hidden><div class=\"sk-item sk-dashed-wrapped\"><div class=\"sk-label-container\"><div class=\"sk-label sk-toggleable\"><input class=\"sk-toggleable__control sk-hidden--visually\" id=\"sk-estimator-id-2\" type=\"checkbox\" ><label for=\"sk-estimator-id-2\" class=\"sk-toggleable__label sk-toggleable__label-arrow\">GridSearchCV</label><div class=\"sk-toggleable__content\"><pre>GridSearchCV(estimator=DecisionTreeRegressor(),\n",
       "             param_grid={&#x27;criterion&#x27;: [&#x27;squared_error&#x27;, &#x27;friedman_mse&#x27;,\n",
       "                                       &#x27;absolute_error&#x27;, &#x27;poisson&#x27;],\n",
       "                         &#x27;max_depth&#x27;: [3, 4, 5, 6, 7, 8, 9, 10, 15, None],\n",
       "                         &#x27;max_features&#x27;: [&#x27;sqrt&#x27;, &#x27;log2&#x27;, None],\n",
       "                         &#x27;splitter&#x27;: [&#x27;best&#x27;, &#x27;random&#x27;]})</pre></div></div></div><div class=\"sk-parallel\"><div class=\"sk-parallel-item\"><div class=\"sk-item\"><div class=\"sk-label-container\"><div class=\"sk-label sk-toggleable\"><input class=\"sk-toggleable__control sk-hidden--visually\" id=\"sk-estimator-id-3\" type=\"checkbox\" ><label for=\"sk-estimator-id-3\" class=\"sk-toggleable__label sk-toggleable__label-arrow\">estimator: DecisionTreeRegressor</label><div class=\"sk-toggleable__content\"><pre>DecisionTreeRegressor()</pre></div></div></div><div class=\"sk-serial\"><div class=\"sk-item\"><div class=\"sk-estimator sk-toggleable\"><input class=\"sk-toggleable__control sk-hidden--visually\" id=\"sk-estimator-id-4\" type=\"checkbox\" ><label for=\"sk-estimator-id-4\" class=\"sk-toggleable__label sk-toggleable__label-arrow\">DecisionTreeRegressor</label><div class=\"sk-toggleable__content\"><pre>DecisionTreeRegressor()</pre></div></div></div></div></div></div></div></div></div></div>"
      ],
      "text/plain": [
       "GridSearchCV(estimator=DecisionTreeRegressor(),\n",
       "             param_grid={'criterion': ['squared_error', 'friedman_mse',\n",
       "                                       'absolute_error', 'poisson'],\n",
       "                         'max_depth': [3, 4, 5, 6, 7, 8, 9, 10, 15, None],\n",
       "                         'max_features': ['sqrt', 'log2', None],\n",
       "                         'splitter': ['best', 'random']})"
      ]
     },
     "execution_count": 72,
     "metadata": {},
     "output_type": "execute_result"
    }
   ],
   "source": [
    "import warnings\n",
    "warnings.filterwarnings('ignore')\n",
    "grid.fit(X_train, y_train)"
   ]
  },
  {
   "cell_type": "code",
   "execution_count": 73,
   "id": "dde3ed6d",
   "metadata": {
    "execution": {
     "iopub.execute_input": "2025-10-17T13:30:20.362112Z",
     "iopub.status.busy": "2025-10-17T13:30:20.361229Z",
     "iopub.status.idle": "2025-10-17T13:30:20.368166Z",
     "shell.execute_reply": "2025-10-17T13:30:20.366798Z"
    },
    "papermill": {
     "duration": 0.030942,
     "end_time": "2025-10-17T13:30:20.369888",
     "exception": false,
     "start_time": "2025-10-17T13:30:20.338946",
     "status": "completed"
    },
    "tags": []
   },
   "outputs": [
    {
     "data": {
      "text/plain": [
       "{'criterion': 'absolute_error',\n",
       " 'max_depth': 7,\n",
       " 'max_features': None,\n",
       " 'splitter': 'best'}"
      ]
     },
     "execution_count": 73,
     "metadata": {},
     "output_type": "execute_result"
    }
   ],
   "source": [
    "grid.best_params_"
   ]
  },
  {
   "cell_type": "code",
   "execution_count": 74,
   "id": "6261a6ed",
   "metadata": {
    "execution": {
     "iopub.execute_input": "2025-10-17T13:30:20.416759Z",
     "iopub.status.busy": "2025-10-17T13:30:20.415193Z",
     "iopub.status.idle": "2025-10-17T13:30:20.422577Z",
     "shell.execute_reply": "2025-10-17T13:30:20.421220Z"
    },
    "papermill": {
     "duration": 0.033498,
     "end_time": "2025-10-17T13:30:20.424559",
     "exception": false,
     "start_time": "2025-10-17T13:30:20.391061",
     "status": "completed"
    },
    "tags": []
   },
   "outputs": [
    {
     "data": {
      "text/plain": [
       "0.5291229796254039"
      ]
     },
     "execution_count": 74,
     "metadata": {},
     "output_type": "execute_result"
    }
   ],
   "source": [
    "grid.best_score_"
   ]
  },
  {
   "cell_type": "code",
   "execution_count": 75,
   "id": "89c560d3",
   "metadata": {
    "execution": {
     "iopub.execute_input": "2025-10-17T13:30:20.471398Z",
     "iopub.status.busy": "2025-10-17T13:30:20.470489Z",
     "iopub.status.idle": "2025-10-17T13:30:20.477756Z",
     "shell.execute_reply": "2025-10-17T13:30:20.476039Z"
    },
    "papermill": {
     "duration": 0.033165,
     "end_time": "2025-10-17T13:30:20.479616",
     "exception": false,
     "start_time": "2025-10-17T13:30:20.446451",
     "status": "completed"
    },
    "tags": []
   },
   "outputs": [],
   "source": [
    "y_pred = grid.predict(X_test)"
   ]
  },
  {
   "cell_type": "code",
   "execution_count": 76,
   "id": "c108f193",
   "metadata": {
    "execution": {
     "iopub.execute_input": "2025-10-17T13:30:20.524425Z",
     "iopub.status.busy": "2025-10-17T13:30:20.524044Z",
     "iopub.status.idle": "2025-10-17T13:30:20.533781Z",
     "shell.execute_reply": "2025-10-17T13:30:20.532526Z"
    },
    "papermill": {
     "duration": 0.03375,
     "end_time": "2025-10-17T13:30:20.535977",
     "exception": false,
     "start_time": "2025-10-17T13:30:20.502227",
     "status": "completed"
    },
    "tags": []
   },
   "outputs": [
    {
     "name": "stdout",
     "output_type": "stream",
     "text": [
      "R2 Score:  0.35039558584618924\n",
      "MAE:  5460.20352112676\n",
      "MSE:  139776460.2947183\n"
     ]
    }
   ],
   "source": [
    "print('R2 Score: ', r2_score(y_test, y_pred))\n",
    "print('MAE: ', mean_absolute_error(y_test, y_pred))\n",
    "print('MSE: ', mean_squared_error(y_test, y_pred))"
   ]
  },
  {
   "cell_type": "markdown",
   "id": "b0ec2443",
   "metadata": {
    "papermill": {
     "duration": 0.01941,
     "end_time": "2025-10-17T13:30:20.576019",
     "exception": false,
     "start_time": "2025-10-17T13:30:20.556609",
     "status": "completed"
    },
    "tags": []
   },
   "source": [
    "# K-Nearest Neighbor Regressor "
   ]
  },
  {
   "cell_type": "code",
   "execution_count": 77,
   "id": "7d0c6553",
   "metadata": {
    "execution": {
     "iopub.execute_input": "2025-10-17T13:30:20.619045Z",
     "iopub.status.busy": "2025-10-17T13:30:20.618732Z",
     "iopub.status.idle": "2025-10-17T13:30:20.623749Z",
     "shell.execute_reply": "2025-10-17T13:30:20.622618Z"
    },
    "papermill": {
     "duration": 0.027626,
     "end_time": "2025-10-17T13:30:20.625452",
     "exception": false,
     "start_time": "2025-10-17T13:30:20.597826",
     "status": "completed"
    },
    "tags": []
   },
   "outputs": [],
   "source": [
    "from sklearn.neighbors import KNeighborsRegressor"
   ]
  },
  {
   "cell_type": "code",
   "execution_count": 78,
   "id": "fc3ae299",
   "metadata": {
    "execution": {
     "iopub.execute_input": "2025-10-17T13:30:20.667794Z",
     "iopub.status.busy": "2025-10-17T13:30:20.667482Z",
     "iopub.status.idle": "2025-10-17T13:30:20.672286Z",
     "shell.execute_reply": "2025-10-17T13:30:20.671297Z"
    },
    "papermill": {
     "duration": 0.028856,
     "end_time": "2025-10-17T13:30:20.674355",
     "exception": false,
     "start_time": "2025-10-17T13:30:20.645499",
     "status": "completed"
    },
    "tags": []
   },
   "outputs": [],
   "source": [
    "knn_reg = KNeighborsRegressor()"
   ]
  },
  {
   "cell_type": "code",
   "execution_count": 79,
   "id": "7d84de8c",
   "metadata": {
    "execution": {
     "iopub.execute_input": "2025-10-17T13:30:20.717254Z",
     "iopub.status.busy": "2025-10-17T13:30:20.716581Z",
     "iopub.status.idle": "2025-10-17T13:30:20.727398Z",
     "shell.execute_reply": "2025-10-17T13:30:20.726250Z"
    },
    "papermill": {
     "duration": 0.034239,
     "end_time": "2025-10-17T13:30:20.729048",
     "exception": false,
     "start_time": "2025-10-17T13:30:20.694809",
     "status": "completed"
    },
    "tags": []
   },
   "outputs": [
    {
     "data": {
      "text/html": [
       "<style>#sk-container-id-3 {color: black;background-color: white;}#sk-container-id-3 pre{padding: 0;}#sk-container-id-3 div.sk-toggleable {background-color: white;}#sk-container-id-3 label.sk-toggleable__label {cursor: pointer;display: block;width: 100%;margin-bottom: 0;padding: 0.3em;box-sizing: border-box;text-align: center;}#sk-container-id-3 label.sk-toggleable__label-arrow:before {content: \"▸\";float: left;margin-right: 0.25em;color: #696969;}#sk-container-id-3 label.sk-toggleable__label-arrow:hover:before {color: black;}#sk-container-id-3 div.sk-estimator:hover label.sk-toggleable__label-arrow:before {color: black;}#sk-container-id-3 div.sk-toggleable__content {max-height: 0;max-width: 0;overflow: hidden;text-align: left;background-color: #f0f8ff;}#sk-container-id-3 div.sk-toggleable__content pre {margin: 0.2em;color: black;border-radius: 0.25em;background-color: #f0f8ff;}#sk-container-id-3 input.sk-toggleable__control:checked~div.sk-toggleable__content {max-height: 200px;max-width: 100%;overflow: auto;}#sk-container-id-3 input.sk-toggleable__control:checked~label.sk-toggleable__label-arrow:before {content: \"▾\";}#sk-container-id-3 div.sk-estimator input.sk-toggleable__control:checked~label.sk-toggleable__label {background-color: #d4ebff;}#sk-container-id-3 div.sk-label input.sk-toggleable__control:checked~label.sk-toggleable__label {background-color: #d4ebff;}#sk-container-id-3 input.sk-hidden--visually {border: 0;clip: rect(1px 1px 1px 1px);clip: rect(1px, 1px, 1px, 1px);height: 1px;margin: -1px;overflow: hidden;padding: 0;position: absolute;width: 1px;}#sk-container-id-3 div.sk-estimator {font-family: monospace;background-color: #f0f8ff;border: 1px dotted black;border-radius: 0.25em;box-sizing: border-box;margin-bottom: 0.5em;}#sk-container-id-3 div.sk-estimator:hover {background-color: #d4ebff;}#sk-container-id-3 div.sk-parallel-item::after {content: \"\";width: 100%;border-bottom: 1px solid gray;flex-grow: 1;}#sk-container-id-3 div.sk-label:hover label.sk-toggleable__label {background-color: #d4ebff;}#sk-container-id-3 div.sk-serial::before {content: \"\";position: absolute;border-left: 1px solid gray;box-sizing: border-box;top: 0;bottom: 0;left: 50%;z-index: 0;}#sk-container-id-3 div.sk-serial {display: flex;flex-direction: column;align-items: center;background-color: white;padding-right: 0.2em;padding-left: 0.2em;position: relative;}#sk-container-id-3 div.sk-item {position: relative;z-index: 1;}#sk-container-id-3 div.sk-parallel {display: flex;align-items: stretch;justify-content: center;background-color: white;position: relative;}#sk-container-id-3 div.sk-item::before, #sk-container-id-3 div.sk-parallel-item::before {content: \"\";position: absolute;border-left: 1px solid gray;box-sizing: border-box;top: 0;bottom: 0;left: 50%;z-index: -1;}#sk-container-id-3 div.sk-parallel-item {display: flex;flex-direction: column;z-index: 1;position: relative;background-color: white;}#sk-container-id-3 div.sk-parallel-item:first-child::after {align-self: flex-end;width: 50%;}#sk-container-id-3 div.sk-parallel-item:last-child::after {align-self: flex-start;width: 50%;}#sk-container-id-3 div.sk-parallel-item:only-child::after {width: 0;}#sk-container-id-3 div.sk-dashed-wrapped {border: 1px dashed gray;margin: 0 0.4em 0.5em 0.4em;box-sizing: border-box;padding-bottom: 0.4em;background-color: white;}#sk-container-id-3 div.sk-label label {font-family: monospace;font-weight: bold;display: inline-block;line-height: 1.2em;}#sk-container-id-3 div.sk-label-container {text-align: center;}#sk-container-id-3 div.sk-container {/* jupyter's `normalize.less` sets `[hidden] { display: none; }` but bootstrap.min.css set `[hidden] { display: none !important; }` so we also need the `!important` here to be able to override the default hidden behavior on the sphinx rendered scikit-learn.org. See: https://github.com/scikit-learn/scikit-learn/issues/21755 */display: inline-block !important;position: relative;}#sk-container-id-3 div.sk-text-repr-fallback {display: none;}</style><div id=\"sk-container-id-3\" class=\"sk-top-container\"><div class=\"sk-text-repr-fallback\"><pre>KNeighborsRegressor()</pre><b>In a Jupyter environment, please rerun this cell to show the HTML representation or trust the notebook. <br />On GitHub, the HTML representation is unable to render, please try loading this page with nbviewer.org.</b></div><div class=\"sk-container\" hidden><div class=\"sk-item\"><div class=\"sk-estimator sk-toggleable\"><input class=\"sk-toggleable__control sk-hidden--visually\" id=\"sk-estimator-id-5\" type=\"checkbox\" checked><label for=\"sk-estimator-id-5\" class=\"sk-toggleable__label sk-toggleable__label-arrow\">KNeighborsRegressor</label><div class=\"sk-toggleable__content\"><pre>KNeighborsRegressor()</pre></div></div></div></div></div>"
      ],
      "text/plain": [
       "KNeighborsRegressor()"
      ]
     },
     "execution_count": 79,
     "metadata": {},
     "output_type": "execute_result"
    }
   ],
   "source": [
    "knn_reg.fit(X_train, y_train)"
   ]
  },
  {
   "cell_type": "code",
   "execution_count": 80,
   "id": "211e903d",
   "metadata": {
    "execution": {
     "iopub.execute_input": "2025-10-17T13:30:20.773097Z",
     "iopub.status.busy": "2025-10-17T13:30:20.772811Z",
     "iopub.status.idle": "2025-10-17T13:30:20.782927Z",
     "shell.execute_reply": "2025-10-17T13:30:20.781902Z"
    },
    "papermill": {
     "duration": 0.034094,
     "end_time": "2025-10-17T13:30:20.784782",
     "exception": false,
     "start_time": "2025-10-17T13:30:20.750688",
     "status": "completed"
    },
    "tags": []
   },
   "outputs": [],
   "source": [
    "y_pred = knn_reg.predict(X_test)"
   ]
  },
  {
   "cell_type": "code",
   "execution_count": 81,
   "id": "184a3990",
   "metadata": {
    "execution": {
     "iopub.execute_input": "2025-10-17T13:30:20.828099Z",
     "iopub.status.busy": "2025-10-17T13:30:20.827738Z",
     "iopub.status.idle": "2025-10-17T13:30:20.836939Z",
     "shell.execute_reply": "2025-10-17T13:30:20.835607Z"
    },
    "papermill": {
     "duration": 0.033044,
     "end_time": "2025-10-17T13:30:20.838594",
     "exception": false,
     "start_time": "2025-10-17T13:30:20.805550",
     "status": "completed"
    },
    "tags": []
   },
   "outputs": [
    {
     "name": "stdout",
     "output_type": "stream",
     "text": [
      "R2 Score:  0.35725384590574893\n",
      "MAE:  5703.98\n",
      "MSE:  138300757.09132394\n"
     ]
    }
   ],
   "source": [
    "print('R2 Score: ', r2_score(y_test, y_pred))\n",
    "print('MAE: ', mean_absolute_error(y_test, y_pred))\n",
    "print('MSE: ', mean_squared_error(y_test, y_pred))"
   ]
  },
  {
   "cell_type": "code",
   "execution_count": 82,
   "id": "e89e883c",
   "metadata": {
    "execution": {
     "iopub.execute_input": "2025-10-17T13:30:20.881766Z",
     "iopub.status.busy": "2025-10-17T13:30:20.881452Z",
     "iopub.status.idle": "2025-10-17T13:30:20.886269Z",
     "shell.execute_reply": "2025-10-17T13:30:20.885404Z"
    },
    "papermill": {
     "duration": 0.028363,
     "end_time": "2025-10-17T13:30:20.888154",
     "exception": false,
     "start_time": "2025-10-17T13:30:20.859791",
     "status": "completed"
    },
    "tags": []
   },
   "outputs": [],
   "source": [
    "params = {\n",
    "    'n_neighbors':[3,4,5,6,7,8,9,10],\n",
    "    'weights': ['uniform', 'distancealgorithm'],\n",
    "    'algorithm':['auto', 'ball_tree','kd_tree', 'brute'],\n",
    "    'p':[1,2]\n",
    "}\n",
    "\n",
    "grid_knn = GridSearchCV(KNeighborsRegressor(), params, cv = 5)\n"
   ]
  },
  {
   "cell_type": "code",
   "execution_count": 83,
   "id": "d92c689c",
   "metadata": {
    "execution": {
     "iopub.execute_input": "2025-10-17T13:30:20.931229Z",
     "iopub.status.busy": "2025-10-17T13:30:20.930915Z",
     "iopub.status.idle": "2025-10-17T13:30:23.979217Z",
     "shell.execute_reply": "2025-10-17T13:30:23.978051Z"
    },
    "papermill": {
     "duration": 3.071802,
     "end_time": "2025-10-17T13:30:23.981103",
     "exception": false,
     "start_time": "2025-10-17T13:30:20.909301",
     "status": "completed"
    },
    "tags": []
   },
   "outputs": [
    {
     "data": {
      "text/html": [
       "<style>#sk-container-id-4 {color: black;background-color: white;}#sk-container-id-4 pre{padding: 0;}#sk-container-id-4 div.sk-toggleable {background-color: white;}#sk-container-id-4 label.sk-toggleable__label {cursor: pointer;display: block;width: 100%;margin-bottom: 0;padding: 0.3em;box-sizing: border-box;text-align: center;}#sk-container-id-4 label.sk-toggleable__label-arrow:before {content: \"▸\";float: left;margin-right: 0.25em;color: #696969;}#sk-container-id-4 label.sk-toggleable__label-arrow:hover:before {color: black;}#sk-container-id-4 div.sk-estimator:hover label.sk-toggleable__label-arrow:before {color: black;}#sk-container-id-4 div.sk-toggleable__content {max-height: 0;max-width: 0;overflow: hidden;text-align: left;background-color: #f0f8ff;}#sk-container-id-4 div.sk-toggleable__content pre {margin: 0.2em;color: black;border-radius: 0.25em;background-color: #f0f8ff;}#sk-container-id-4 input.sk-toggleable__control:checked~div.sk-toggleable__content {max-height: 200px;max-width: 100%;overflow: auto;}#sk-container-id-4 input.sk-toggleable__control:checked~label.sk-toggleable__label-arrow:before {content: \"▾\";}#sk-container-id-4 div.sk-estimator input.sk-toggleable__control:checked~label.sk-toggleable__label {background-color: #d4ebff;}#sk-container-id-4 div.sk-label input.sk-toggleable__control:checked~label.sk-toggleable__label {background-color: #d4ebff;}#sk-container-id-4 input.sk-hidden--visually {border: 0;clip: rect(1px 1px 1px 1px);clip: rect(1px, 1px, 1px, 1px);height: 1px;margin: -1px;overflow: hidden;padding: 0;position: absolute;width: 1px;}#sk-container-id-4 div.sk-estimator {font-family: monospace;background-color: #f0f8ff;border: 1px dotted black;border-radius: 0.25em;box-sizing: border-box;margin-bottom: 0.5em;}#sk-container-id-4 div.sk-estimator:hover {background-color: #d4ebff;}#sk-container-id-4 div.sk-parallel-item::after {content: \"\";width: 100%;border-bottom: 1px solid gray;flex-grow: 1;}#sk-container-id-4 div.sk-label:hover label.sk-toggleable__label {background-color: #d4ebff;}#sk-container-id-4 div.sk-serial::before {content: \"\";position: absolute;border-left: 1px solid gray;box-sizing: border-box;top: 0;bottom: 0;left: 50%;z-index: 0;}#sk-container-id-4 div.sk-serial {display: flex;flex-direction: column;align-items: center;background-color: white;padding-right: 0.2em;padding-left: 0.2em;position: relative;}#sk-container-id-4 div.sk-item {position: relative;z-index: 1;}#sk-container-id-4 div.sk-parallel {display: flex;align-items: stretch;justify-content: center;background-color: white;position: relative;}#sk-container-id-4 div.sk-item::before, #sk-container-id-4 div.sk-parallel-item::before {content: \"\";position: absolute;border-left: 1px solid gray;box-sizing: border-box;top: 0;bottom: 0;left: 50%;z-index: -1;}#sk-container-id-4 div.sk-parallel-item {display: flex;flex-direction: column;z-index: 1;position: relative;background-color: white;}#sk-container-id-4 div.sk-parallel-item:first-child::after {align-self: flex-end;width: 50%;}#sk-container-id-4 div.sk-parallel-item:last-child::after {align-self: flex-start;width: 50%;}#sk-container-id-4 div.sk-parallel-item:only-child::after {width: 0;}#sk-container-id-4 div.sk-dashed-wrapped {border: 1px dashed gray;margin: 0 0.4em 0.5em 0.4em;box-sizing: border-box;padding-bottom: 0.4em;background-color: white;}#sk-container-id-4 div.sk-label label {font-family: monospace;font-weight: bold;display: inline-block;line-height: 1.2em;}#sk-container-id-4 div.sk-label-container {text-align: center;}#sk-container-id-4 div.sk-container {/* jupyter's `normalize.less` sets `[hidden] { display: none; }` but bootstrap.min.css set `[hidden] { display: none !important; }` so we also need the `!important` here to be able to override the default hidden behavior on the sphinx rendered scikit-learn.org. See: https://github.com/scikit-learn/scikit-learn/issues/21755 */display: inline-block !important;position: relative;}#sk-container-id-4 div.sk-text-repr-fallback {display: none;}</style><div id=\"sk-container-id-4\" class=\"sk-top-container\"><div class=\"sk-text-repr-fallback\"><pre>GridSearchCV(cv=5, estimator=KNeighborsRegressor(),\n",
       "             param_grid={&#x27;algorithm&#x27;: [&#x27;auto&#x27;, &#x27;ball_tree&#x27;, &#x27;kd_tree&#x27;, &#x27;brute&#x27;],\n",
       "                         &#x27;n_neighbors&#x27;: [3, 4, 5, 6, 7, 8, 9, 10], &#x27;p&#x27;: [1, 2],\n",
       "                         &#x27;weights&#x27;: [&#x27;uniform&#x27;, &#x27;distancealgorithm&#x27;]})</pre><b>In a Jupyter environment, please rerun this cell to show the HTML representation or trust the notebook. <br />On GitHub, the HTML representation is unable to render, please try loading this page with nbviewer.org.</b></div><div class=\"sk-container\" hidden><div class=\"sk-item sk-dashed-wrapped\"><div class=\"sk-label-container\"><div class=\"sk-label sk-toggleable\"><input class=\"sk-toggleable__control sk-hidden--visually\" id=\"sk-estimator-id-6\" type=\"checkbox\" ><label for=\"sk-estimator-id-6\" class=\"sk-toggleable__label sk-toggleable__label-arrow\">GridSearchCV</label><div class=\"sk-toggleable__content\"><pre>GridSearchCV(cv=5, estimator=KNeighborsRegressor(),\n",
       "             param_grid={&#x27;algorithm&#x27;: [&#x27;auto&#x27;, &#x27;ball_tree&#x27;, &#x27;kd_tree&#x27;, &#x27;brute&#x27;],\n",
       "                         &#x27;n_neighbors&#x27;: [3, 4, 5, 6, 7, 8, 9, 10], &#x27;p&#x27;: [1, 2],\n",
       "                         &#x27;weights&#x27;: [&#x27;uniform&#x27;, &#x27;distancealgorithm&#x27;]})</pre></div></div></div><div class=\"sk-parallel\"><div class=\"sk-parallel-item\"><div class=\"sk-item\"><div class=\"sk-label-container\"><div class=\"sk-label sk-toggleable\"><input class=\"sk-toggleable__control sk-hidden--visually\" id=\"sk-estimator-id-7\" type=\"checkbox\" ><label for=\"sk-estimator-id-7\" class=\"sk-toggleable__label sk-toggleable__label-arrow\">estimator: KNeighborsRegressor</label><div class=\"sk-toggleable__content\"><pre>KNeighborsRegressor()</pre></div></div></div><div class=\"sk-serial\"><div class=\"sk-item\"><div class=\"sk-estimator sk-toggleable\"><input class=\"sk-toggleable__control sk-hidden--visually\" id=\"sk-estimator-id-8\" type=\"checkbox\" ><label for=\"sk-estimator-id-8\" class=\"sk-toggleable__label sk-toggleable__label-arrow\">KNeighborsRegressor</label><div class=\"sk-toggleable__content\"><pre>KNeighborsRegressor()</pre></div></div></div></div></div></div></div></div></div></div>"
      ],
      "text/plain": [
       "GridSearchCV(cv=5, estimator=KNeighborsRegressor(),\n",
       "             param_grid={'algorithm': ['auto', 'ball_tree', 'kd_tree', 'brute'],\n",
       "                         'n_neighbors': [3, 4, 5, 6, 7, 8, 9, 10], 'p': [1, 2],\n",
       "                         'weights': ['uniform', 'distancealgorithm']})"
      ]
     },
     "execution_count": 83,
     "metadata": {},
     "output_type": "execute_result"
    }
   ],
   "source": [
    "warnings.filterwarnings('ignore')\n",
    "grid_knn.fit(X_train, y_train)"
   ]
  },
  {
   "cell_type": "code",
   "execution_count": 84,
   "id": "b781f85d",
   "metadata": {
    "execution": {
     "iopub.execute_input": "2025-10-17T13:30:24.024842Z",
     "iopub.status.busy": "2025-10-17T13:30:24.024554Z",
     "iopub.status.idle": "2025-10-17T13:30:24.035968Z",
     "shell.execute_reply": "2025-10-17T13:30:24.034097Z"
    },
    "papermill": {
     "duration": 0.0361,
     "end_time": "2025-10-17T13:30:24.037957",
     "exception": false,
     "start_time": "2025-10-17T13:30:24.001857",
     "status": "completed"
    },
    "tags": []
   },
   "outputs": [
    {
     "data": {
      "text/plain": [
       "0.5273146678311298"
      ]
     },
     "execution_count": 84,
     "metadata": {},
     "output_type": "execute_result"
    }
   ],
   "source": [
    "grid_knn.best_score_"
   ]
  },
  {
   "cell_type": "code",
   "execution_count": 85,
   "id": "79d6ae91",
   "metadata": {
    "execution": {
     "iopub.execute_input": "2025-10-17T13:30:24.082014Z",
     "iopub.status.busy": "2025-10-17T13:30:24.081730Z",
     "iopub.status.idle": "2025-10-17T13:30:24.087729Z",
     "shell.execute_reply": "2025-10-17T13:30:24.086829Z"
    },
    "papermill": {
     "duration": 0.030098,
     "end_time": "2025-10-17T13:30:24.089226",
     "exception": false,
     "start_time": "2025-10-17T13:30:24.059128",
     "status": "completed"
    },
    "tags": []
   },
   "outputs": [
    {
     "data": {
      "text/plain": [
       "{'algorithm': 'auto', 'n_neighbors': 9, 'p': 1, 'weights': 'uniform'}"
      ]
     },
     "execution_count": 85,
     "metadata": {},
     "output_type": "execute_result"
    }
   ],
   "source": [
    "grid_knn.best_params_"
   ]
  },
  {
   "cell_type": "code",
   "execution_count": 86,
   "id": "89a07c5c",
   "metadata": {
    "execution": {
     "iopub.execute_input": "2025-10-17T13:30:24.133831Z",
     "iopub.status.busy": "2025-10-17T13:30:24.133475Z",
     "iopub.status.idle": "2025-10-17T13:30:24.147494Z",
     "shell.execute_reply": "2025-10-17T13:30:24.146588Z"
    },
    "papermill": {
     "duration": 0.037448,
     "end_time": "2025-10-17T13:30:24.149084",
     "exception": false,
     "start_time": "2025-10-17T13:30:24.111636",
     "status": "completed"
    },
    "tags": []
   },
   "outputs": [],
   "source": [
    "y_pred = grid_knn.predict(X_test)"
   ]
  },
  {
   "cell_type": "code",
   "execution_count": 87,
   "id": "dbaa5f29",
   "metadata": {
    "execution": {
     "iopub.execute_input": "2025-10-17T13:30:24.192838Z",
     "iopub.status.busy": "2025-10-17T13:30:24.192535Z",
     "iopub.status.idle": "2025-10-17T13:30:24.201159Z",
     "shell.execute_reply": "2025-10-17T13:30:24.200012Z"
    },
    "papermill": {
     "duration": 0.03233,
     "end_time": "2025-10-17T13:30:24.202890",
     "exception": false,
     "start_time": "2025-10-17T13:30:24.170560",
     "status": "completed"
    },
    "tags": []
   },
   "outputs": [
    {
     "name": "stdout",
     "output_type": "stream",
     "text": [
      "R2 Score:  0.3716330192083981\n",
      "MAE:  5632.598122065728\n",
      "MSE:  135206766.49886975\n"
     ]
    }
   ],
   "source": [
    "print('R2 Score: ', r2_score(y_test, y_pred))\n",
    "print('MAE: ', mean_absolute_error(y_test, y_pred))\n",
    "print('MSE: ', mean_squared_error(y_test, y_pred))"
   ]
  },
  {
   "cell_type": "markdown",
   "id": "b41ba698",
   "metadata": {
    "papermill": {
     "duration": 0.021504,
     "end_time": "2025-10-17T13:30:24.245426",
     "exception": false,
     "start_time": "2025-10-17T13:30:24.223922",
     "status": "completed"
    },
    "tags": []
   },
   "source": [
    "# Support Vector Regressor"
   ]
  },
  {
   "cell_type": "code",
   "execution_count": 88,
   "id": "54ad1889",
   "metadata": {
    "execution": {
     "iopub.execute_input": "2025-10-17T13:30:24.288171Z",
     "iopub.status.busy": "2025-10-17T13:30:24.287878Z",
     "iopub.status.idle": "2025-10-17T13:30:24.292996Z",
     "shell.execute_reply": "2025-10-17T13:30:24.291877Z"
    },
    "papermill": {
     "duration": 0.028667,
     "end_time": "2025-10-17T13:30:24.294943",
     "exception": false,
     "start_time": "2025-10-17T13:30:24.266276",
     "status": "completed"
    },
    "tags": []
   },
   "outputs": [],
   "source": [
    "from sklearn.svm import SVR"
   ]
  },
  {
   "cell_type": "code",
   "execution_count": 89,
   "id": "c199572b",
   "metadata": {
    "execution": {
     "iopub.execute_input": "2025-10-17T13:30:24.339452Z",
     "iopub.status.busy": "2025-10-17T13:30:24.339101Z",
     "iopub.status.idle": "2025-10-17T13:30:24.343639Z",
     "shell.execute_reply": "2025-10-17T13:30:24.342685Z"
    },
    "papermill": {
     "duration": 0.029137,
     "end_time": "2025-10-17T13:30:24.345272",
     "exception": false,
     "start_time": "2025-10-17T13:30:24.316135",
     "status": "completed"
    },
    "tags": []
   },
   "outputs": [],
   "source": [
    "svr = SVR()"
   ]
  },
  {
   "cell_type": "code",
   "execution_count": 90,
   "id": "1ce76b7e",
   "metadata": {
    "execution": {
     "iopub.execute_input": "2025-10-17T13:30:24.392520Z",
     "iopub.status.busy": "2025-10-17T13:30:24.391387Z",
     "iopub.status.idle": "2025-10-17T13:30:24.618081Z",
     "shell.execute_reply": "2025-10-17T13:30:24.617047Z"
    },
    "papermill": {
     "duration": 0.250975,
     "end_time": "2025-10-17T13:30:24.620213",
     "exception": false,
     "start_time": "2025-10-17T13:30:24.369238",
     "status": "completed"
    },
    "tags": []
   },
   "outputs": [
    {
     "data": {
      "text/html": [
       "<style>#sk-container-id-5 {color: black;background-color: white;}#sk-container-id-5 pre{padding: 0;}#sk-container-id-5 div.sk-toggleable {background-color: white;}#sk-container-id-5 label.sk-toggleable__label {cursor: pointer;display: block;width: 100%;margin-bottom: 0;padding: 0.3em;box-sizing: border-box;text-align: center;}#sk-container-id-5 label.sk-toggleable__label-arrow:before {content: \"▸\";float: left;margin-right: 0.25em;color: #696969;}#sk-container-id-5 label.sk-toggleable__label-arrow:hover:before {color: black;}#sk-container-id-5 div.sk-estimator:hover label.sk-toggleable__label-arrow:before {color: black;}#sk-container-id-5 div.sk-toggleable__content {max-height: 0;max-width: 0;overflow: hidden;text-align: left;background-color: #f0f8ff;}#sk-container-id-5 div.sk-toggleable__content pre {margin: 0.2em;color: black;border-radius: 0.25em;background-color: #f0f8ff;}#sk-container-id-5 input.sk-toggleable__control:checked~div.sk-toggleable__content {max-height: 200px;max-width: 100%;overflow: auto;}#sk-container-id-5 input.sk-toggleable__control:checked~label.sk-toggleable__label-arrow:before {content: \"▾\";}#sk-container-id-5 div.sk-estimator input.sk-toggleable__control:checked~label.sk-toggleable__label {background-color: #d4ebff;}#sk-container-id-5 div.sk-label input.sk-toggleable__control:checked~label.sk-toggleable__label {background-color: #d4ebff;}#sk-container-id-5 input.sk-hidden--visually {border: 0;clip: rect(1px 1px 1px 1px);clip: rect(1px, 1px, 1px, 1px);height: 1px;margin: -1px;overflow: hidden;padding: 0;position: absolute;width: 1px;}#sk-container-id-5 div.sk-estimator {font-family: monospace;background-color: #f0f8ff;border: 1px dotted black;border-radius: 0.25em;box-sizing: border-box;margin-bottom: 0.5em;}#sk-container-id-5 div.sk-estimator:hover {background-color: #d4ebff;}#sk-container-id-5 div.sk-parallel-item::after {content: \"\";width: 100%;border-bottom: 1px solid gray;flex-grow: 1;}#sk-container-id-5 div.sk-label:hover label.sk-toggleable__label {background-color: #d4ebff;}#sk-container-id-5 div.sk-serial::before {content: \"\";position: absolute;border-left: 1px solid gray;box-sizing: border-box;top: 0;bottom: 0;left: 50%;z-index: 0;}#sk-container-id-5 div.sk-serial {display: flex;flex-direction: column;align-items: center;background-color: white;padding-right: 0.2em;padding-left: 0.2em;position: relative;}#sk-container-id-5 div.sk-item {position: relative;z-index: 1;}#sk-container-id-5 div.sk-parallel {display: flex;align-items: stretch;justify-content: center;background-color: white;position: relative;}#sk-container-id-5 div.sk-item::before, #sk-container-id-5 div.sk-parallel-item::before {content: \"\";position: absolute;border-left: 1px solid gray;box-sizing: border-box;top: 0;bottom: 0;left: 50%;z-index: -1;}#sk-container-id-5 div.sk-parallel-item {display: flex;flex-direction: column;z-index: 1;position: relative;background-color: white;}#sk-container-id-5 div.sk-parallel-item:first-child::after {align-self: flex-end;width: 50%;}#sk-container-id-5 div.sk-parallel-item:last-child::after {align-self: flex-start;width: 50%;}#sk-container-id-5 div.sk-parallel-item:only-child::after {width: 0;}#sk-container-id-5 div.sk-dashed-wrapped {border: 1px dashed gray;margin: 0 0.4em 0.5em 0.4em;box-sizing: border-box;padding-bottom: 0.4em;background-color: white;}#sk-container-id-5 div.sk-label label {font-family: monospace;font-weight: bold;display: inline-block;line-height: 1.2em;}#sk-container-id-5 div.sk-label-container {text-align: center;}#sk-container-id-5 div.sk-container {/* jupyter's `normalize.less` sets `[hidden] { display: none; }` but bootstrap.min.css set `[hidden] { display: none !important; }` so we also need the `!important` here to be able to override the default hidden behavior on the sphinx rendered scikit-learn.org. See: https://github.com/scikit-learn/scikit-learn/issues/21755 */display: inline-block !important;position: relative;}#sk-container-id-5 div.sk-text-repr-fallback {display: none;}</style><div id=\"sk-container-id-5\" class=\"sk-top-container\"><div class=\"sk-text-repr-fallback\"><pre>SVR()</pre><b>In a Jupyter environment, please rerun this cell to show the HTML representation or trust the notebook. <br />On GitHub, the HTML representation is unable to render, please try loading this page with nbviewer.org.</b></div><div class=\"sk-container\" hidden><div class=\"sk-item\"><div class=\"sk-estimator sk-toggleable\"><input class=\"sk-toggleable__control sk-hidden--visually\" id=\"sk-estimator-id-9\" type=\"checkbox\" checked><label for=\"sk-estimator-id-9\" class=\"sk-toggleable__label sk-toggleable__label-arrow\">SVR</label><div class=\"sk-toggleable__content\"><pre>SVR()</pre></div></div></div></div></div>"
      ],
      "text/plain": [
       "SVR()"
      ]
     },
     "execution_count": 90,
     "metadata": {},
     "output_type": "execute_result"
    }
   ],
   "source": [
    "svr.fit(X_train, y_train)"
   ]
  },
  {
   "cell_type": "code",
   "execution_count": 91,
   "id": "c8c3c237",
   "metadata": {
    "execution": {
     "iopub.execute_input": "2025-10-17T13:30:24.665388Z",
     "iopub.status.busy": "2025-10-17T13:30:24.665080Z",
     "iopub.status.idle": "2025-10-17T13:30:24.738126Z",
     "shell.execute_reply": "2025-10-17T13:30:24.736909Z"
    },
    "papermill": {
     "duration": 0.097391,
     "end_time": "2025-10-17T13:30:24.739870",
     "exception": false,
     "start_time": "2025-10-17T13:30:24.642479",
     "status": "completed"
    },
    "tags": []
   },
   "outputs": [],
   "source": [
    "y_pred = svr.predict(X_test)"
   ]
  },
  {
   "cell_type": "code",
   "execution_count": 92,
   "id": "7d659e3e",
   "metadata": {
    "execution": {
     "iopub.execute_input": "2025-10-17T13:30:24.785219Z",
     "iopub.status.busy": "2025-10-17T13:30:24.784924Z",
     "iopub.status.idle": "2025-10-17T13:30:24.792726Z",
     "shell.execute_reply": "2025-10-17T13:30:24.791723Z"
    },
    "papermill": {
     "duration": 0.03161,
     "end_time": "2025-10-17T13:30:24.794296",
     "exception": false,
     "start_time": "2025-10-17T13:30:24.762686",
     "status": "completed"
    },
    "tags": []
   },
   "outputs": [
    {
     "name": "stdout",
     "output_type": "stream",
     "text": [
      "R2 Score:  -0.021012932670186002\n",
      "MAE:  8829.702320652854\n",
      "MSE:  219693047.85231492\n"
     ]
    }
   ],
   "source": [
    "print('R2 Score: ', r2_score(y_test, y_pred))\n",
    "print('MAE: ', mean_absolute_error(y_test, y_pred))\n",
    "print('MSE: ', mean_squared_error(y_test, y_pred))"
   ]
  },
  {
   "cell_type": "code",
   "execution_count": 93,
   "id": "76b5cb9c",
   "metadata": {
    "execution": {
     "iopub.execute_input": "2025-10-17T13:30:24.839298Z",
     "iopub.status.busy": "2025-10-17T13:30:24.838969Z",
     "iopub.status.idle": "2025-10-17T13:30:24.844395Z",
     "shell.execute_reply": "2025-10-17T13:30:24.843488Z"
    },
    "papermill": {
     "duration": 0.029923,
     "end_time": "2025-10-17T13:30:24.845917",
     "exception": false,
     "start_time": "2025-10-17T13:30:24.815994",
     "status": "completed"
    },
    "tags": []
   },
   "outputs": [],
   "source": [
    "params = {\n",
    "    'kernel':['linear', 'poly', 'rbf', ],\n",
    "    'gamma':['scale', 'auto','kd_tree', 'brute'],\n",
    "    'C':[3,5,10,100,1000]\n",
    "}\n",
    "\n",
    "grid_svr = GridSearchCV(SVR(), params, cv =5, verbose = 3, n_jobs=-1)"
   ]
  },
  {
   "cell_type": "code",
   "execution_count": 94,
   "id": "0e1e145c",
   "metadata": {
    "execution": {
     "iopub.execute_input": "2025-10-17T13:30:24.889289Z",
     "iopub.status.busy": "2025-10-17T13:30:24.888963Z",
     "iopub.status.idle": "2025-10-17T13:30:38.891380Z",
     "shell.execute_reply": "2025-10-17T13:30:38.890283Z"
    },
    "papermill": {
     "duration": 14.026211,
     "end_time": "2025-10-17T13:30:38.893055",
     "exception": false,
     "start_time": "2025-10-17T13:30:24.866844",
     "status": "completed"
    },
    "tags": []
   },
   "outputs": [
    {
     "name": "stdout",
     "output_type": "stream",
     "text": [
      "Fitting 5 folds for each of 60 candidates, totalling 300 fits\n",
      "[CV 2/5] END ...C=3, gamma=scale, kernel=linear;, score=0.356 total time=   0.3s\n",
      "[CV 2/5] END .....C=3, gamma=scale, kernel=poly;, score=0.104 total time=   0.3s\n",
      "[CV 5/5] END ....C=3, gamma=scale, kernel=poly;, score=-0.003 total time=   0.3s\n",
      "[CV 4/5] END ......C=3, gamma=scale, kernel=rbf;, score=0.003 total time=   0.4s\n",
      "[CV 4/5] END ....C=3, gamma=auto, kernel=linear;, score=0.301 total time=   0.2s\n",
      "[CV 3/5] END ......C=3, gamma=auto, kernel=poly;, score=0.016 total time=   0.3s\n",
      "[CV 2/5] END .......C=3, gamma=auto, kernel=rbf;, score=0.029 total time=   0.3s\n",
      "[CV 1/5] END ...C=3, gamma=kd_tree, kernel=linear;, score=nan total time=   0.0s\n",
      "[CV 2/5] END ...C=3, gamma=kd_tree, kernel=linear;, score=nan total time=   0.0s\n",
      "[CV 3/5] END ...C=3, gamma=kd_tree, kernel=linear;, score=nan total time=   0.0s\n",
      "[CV 4/5] END ...C=3, gamma=kd_tree, kernel=linear;, score=nan total time=   0.0s\n",
      "[CV 5/5] END ...C=3, gamma=kd_tree, kernel=linear;, score=nan total time=   0.0s\n",
      "[CV 1/5] END .....C=3, gamma=kd_tree, kernel=poly;, score=nan total time=   0.0s\n",
      "[CV 2/5] END .....C=3, gamma=kd_tree, kernel=poly;, score=nan total time=   0.0s\n",
      "[CV 3/5] END .....C=3, gamma=kd_tree, kernel=poly;, score=nan total time=   0.0s\n",
      "[CV 4/5] END .....C=3, gamma=kd_tree, kernel=poly;, score=nan total time=   0.0s\n",
      "[CV 5/5] END .....C=3, gamma=kd_tree, kernel=poly;, score=nan total time=   0.0s\n",
      "[CV 1/5] END ......C=3, gamma=kd_tree, kernel=rbf;, score=nan total time=   0.0s\n",
      "[CV 2/5] END ......C=3, gamma=kd_tree, kernel=rbf;, score=nan total time=   0.0s\n",
      "[CV 3/5] END ......C=3, gamma=kd_tree, kernel=rbf;, score=nan total time=   0.0s\n",
      "[CV 5/5] END ......C=3, gamma=kd_tree, kernel=rbf;, score=nan total time=   0.0s\n",
      "[CV 1/5] END .....C=3, gamma=brute, kernel=linear;, score=nan total time=   0.0s\n",
      "[CV 4/5] END .....C=3, gamma=brute, kernel=linear;, score=nan total time=   0.0s\n",
      "[CV 5/5] END .....C=3, gamma=brute, kernel=linear;, score=nan total time=   0.0s\n",
      "[CV 3/5] END .......C=3, gamma=brute, kernel=poly;, score=nan total time=   0.0s\n",
      "[CV 4/5] END .......C=3, gamma=brute, kernel=poly;, score=nan total time=   0.0s\n",
      "[CV 2/5] END ........C=3, gamma=brute, kernel=rbf;, score=nan total time=   0.0s\n",
      "[CV 3/5] END ........C=3, gamma=brute, kernel=rbf;, score=nan total time=   0.0s\n",
      "[CV 1/5] END ...C=5, gamma=scale, kernel=linear;, score=0.404 total time=   0.2s\n",
      "[CV 2/5] END ...C=5, gamma=scale, kernel=linear;, score=0.424 total time=   0.2s\n",
      "[CV 3/5] END ...C=5, gamma=scale, kernel=linear;, score=0.371 total time=   0.2s\n",
      "[CV 4/5] END ...C=5, gamma=scale, kernel=linear;, score=0.366 total time=   0.2s\n",
      "[CV 2/5] END ....C=5, gamma=auto, kernel=linear;, score=0.424 total time=   0.2s\n",
      "[CV 3/5] END ....C=5, gamma=auto, kernel=linear;, score=0.371 total time=   0.2s\n",
      "[CV 4/5] END ....C=5, gamma=auto, kernel=linear;, score=0.366 total time=   0.2s\n",
      "[CV 5/5] END ....C=5, gamma=auto, kernel=linear;, score=0.319 total time=   0.2s\n",
      "[CV 3/5] END ...C=5, gamma=kd_tree, kernel=linear;, score=nan total time=   0.0s\n",
      "[CV 4/5] END ...C=5, gamma=kd_tree, kernel=linear;, score=nan total time=   0.0s\n",
      "[CV 5/5] END ...C=5, gamma=kd_tree, kernel=linear;, score=nan total time=   0.0s\n",
      "[CV 1/5] END .....C=5, gamma=kd_tree, kernel=poly;, score=nan total time=   0.0s\n",
      "[CV 2/5] END .....C=5, gamma=kd_tree, kernel=poly;, score=nan total time=   0.0s\n",
      "[CV 3/5] END .....C=5, gamma=kd_tree, kernel=poly;, score=nan total time=   0.0s\n",
      "[CV 4/5] END .....C=5, gamma=kd_tree, kernel=poly;, score=nan total time=   0.0s\n",
      "[CV 5/5] END .....C=5, gamma=kd_tree, kernel=poly;, score=nan total time=   0.0s\n",
      "[CV 1/5] END ......C=5, gamma=kd_tree, kernel=rbf;, score=nan total time=   0.0s\n",
      "[CV 2/5] END ......C=5, gamma=kd_tree, kernel=rbf;, score=nan total time=   0.0s\n",
      "[CV 3/5] END ......C=5, gamma=kd_tree, kernel=rbf;, score=nan total time=   0.0s\n",
      "[CV 4/5] END ......C=5, gamma=kd_tree, kernel=rbf;, score=nan total time=   0.0s\n",
      "[CV 5/5] END ......C=5, gamma=kd_tree, kernel=rbf;, score=nan total time=   0.0s\n",
      "[CV 1/5] END .....C=5, gamma=brute, kernel=linear;, score=nan total time=   0.0s\n",
      "[CV 2/5] END .....C=5, gamma=brute, kernel=linear;, score=nan total time=   0.0s\n",
      "[CV 3/5] END .....C=5, gamma=brute, kernel=linear;, score=nan total time=   0.0s\n",
      "[CV 4/5] END .....C=5, gamma=brute, kernel=linear;, score=nan total time=   0.0s\n",
      "[CV 5/5] END .....C=5, gamma=brute, kernel=linear;, score=nan total time=   0.0s\n",
      "[CV 1/5] END .......C=5, gamma=brute, kernel=poly;, score=nan total time=   0.0s\n",
      "[CV 2/5] END .......C=5, gamma=brute, kernel=poly;, score=nan total time=   0.0s\n",
      "[CV 3/5] END .......C=5, gamma=brute, kernel=poly;, score=nan total time=   0.0s\n",
      "[CV 4/5] END .......C=5, gamma=brute, kernel=poly;, score=nan total time=   0.0s\n",
      "[CV 5/5] END .......C=5, gamma=brute, kernel=poly;, score=nan total time=   0.0s\n",
      "[CV 1/5] END ........C=5, gamma=brute, kernel=rbf;, score=nan total time=   0.0s\n",
      "[CV 2/5] END ........C=5, gamma=brute, kernel=rbf;, score=nan total time=   0.0s\n",
      "[CV 3/5] END ........C=5, gamma=brute, kernel=rbf;, score=nan total time=   0.0s\n",
      "[CV 4/5] END ........C=5, gamma=brute, kernel=rbf;, score=nan total time=   0.0s\n",
      "[CV 5/5] END ........C=5, gamma=brute, kernel=rbf;, score=nan total time=   0.0s\n",
      "[CV 1/5] END ..C=10, gamma=scale, kernel=linear;, score=0.499 total time=   0.2s\n",
      "[CV 2/5] END ..C=10, gamma=scale, kernel=linear;, score=0.486 total time=   0.2s\n",
      "[CV 3/5] END ..C=10, gamma=scale, kernel=linear;, score=0.426 total time=   0.2s\n",
      "[CV 4/5] END ..C=10, gamma=scale, kernel=linear;, score=0.426 total time=   0.2s\n",
      "[CV 2/5] END ...C=10, gamma=auto, kernel=linear;, score=0.486 total time=   0.2s\n",
      "[CV 3/5] END ...C=10, gamma=auto, kernel=linear;, score=0.426 total time=   0.2s\n",
      "[CV 4/5] END ...C=10, gamma=auto, kernel=linear;, score=0.426 total time=   0.2s\n",
      "[CV 5/5] END ...C=10, gamma=auto, kernel=linear;, score=0.369 total time=   0.2s\n",
      "[CV 3/5] END ..C=10, gamma=kd_tree, kernel=linear;, score=nan total time=   0.0s\n",
      "[CV 4/5] END ..C=10, gamma=kd_tree, kernel=linear;, score=nan total time=   0.0s\n",
      "[CV 5/5] END ..C=10, gamma=kd_tree, kernel=linear;, score=nan total time=   0.0s\n",
      "[CV 1/5] END ....C=10, gamma=kd_tree, kernel=poly;, score=nan total time=   0.0s\n",
      "[CV 2/5] END ....C=10, gamma=kd_tree, kernel=poly;, score=nan total time=   0.0s\n",
      "[CV 3/5] END ....C=10, gamma=kd_tree, kernel=poly;, score=nan total time=   0.0s\n",
      "[CV 4/5] END ....C=10, gamma=kd_tree, kernel=poly;, score=nan total time=   0.0s\n",
      "[CV 5/5] END ....C=10, gamma=kd_tree, kernel=poly;, score=nan total time=   0.0s\n",
      "[CV 1/5] END .....C=10, gamma=kd_tree, kernel=rbf;, score=nan total time=   0.0s\n",
      "[CV 2/5] END .....C=10, gamma=kd_tree, kernel=rbf;, score=nan total time=   0.0s\n",
      "[CV 3/5] END .....C=10, gamma=kd_tree, kernel=rbf;, score=nan total time=   0.0s\n",
      "[CV 4/5] END .....C=10, gamma=kd_tree, kernel=rbf;, score=nan total time=   0.0s\n",
      "[CV 5/5] END .....C=10, gamma=kd_tree, kernel=rbf;, score=nan total time=   0.0s\n",
      "[CV 1/5] END ....C=10, gamma=brute, kernel=linear;, score=nan total time=   0.0s\n",
      "[CV 2/5] END ....C=10, gamma=brute, kernel=linear;, score=nan total time=   0.0s\n",
      "[CV 3/5] END ....C=10, gamma=brute, kernel=linear;, score=nan total time=   0.0s\n",
      "[CV 4/5] END ....C=10, gamma=brute, kernel=linear;, score=nan total time=   0.0s\n",
      "[CV 5/5] END ....C=10, gamma=brute, kernel=linear;, score=nan total time=   0.0s\n",
      "[CV 1/5] END ......C=10, gamma=brute, kernel=poly;, score=nan total time=   0.0s\n",
      "[CV 2/5] END ......C=10, gamma=brute, kernel=poly;, score=nan total time=   0.0s\n",
      "[CV 3/5] END ......C=10, gamma=brute, kernel=poly;, score=nan total time=   0.0s\n",
      "[CV 4/5] END ......C=10, gamma=brute, kernel=poly;, score=nan total time=   0.0s\n",
      "[CV 5/5] END ......C=10, gamma=brute, kernel=poly;, score=nan total time=   0.0s\n",
      "[CV 1/5] END .......C=10, gamma=brute, kernel=rbf;, score=nan total time=   0.0s\n",
      "[CV 2/5] END .......C=10, gamma=brute, kernel=rbf;, score=nan total time=   0.0s\n",
      "[CV 3/5] END .......C=10, gamma=brute, kernel=rbf;, score=nan total time=   0.0s\n",
      "[CV 4/5] END .......C=10, gamma=brute, kernel=rbf;, score=nan total time=   0.0s\n",
      "[CV 5/5] END .......C=10, gamma=brute, kernel=rbf;, score=nan total time=   0.0s\n",
      "[CV 1/5] END .C=100, gamma=scale, kernel=linear;, score=0.616 total time=   0.2s\n",
      "[CV 2/5] END .C=100, gamma=scale, kernel=linear;, score=0.539 total time=   0.2s"
     ]
    },
    {
     "data": {
      "text/html": [
       "<style>#sk-container-id-6 {color: black;background-color: white;}#sk-container-id-6 pre{padding: 0;}#sk-container-id-6 div.sk-toggleable {background-color: white;}#sk-container-id-6 label.sk-toggleable__label {cursor: pointer;display: block;width: 100%;margin-bottom: 0;padding: 0.3em;box-sizing: border-box;text-align: center;}#sk-container-id-6 label.sk-toggleable__label-arrow:before {content: \"▸\";float: left;margin-right: 0.25em;color: #696969;}#sk-container-id-6 label.sk-toggleable__label-arrow:hover:before {color: black;}#sk-container-id-6 div.sk-estimator:hover label.sk-toggleable__label-arrow:before {color: black;}#sk-container-id-6 div.sk-toggleable__content {max-height: 0;max-width: 0;overflow: hidden;text-align: left;background-color: #f0f8ff;}#sk-container-id-6 div.sk-toggleable__content pre {margin: 0.2em;color: black;border-radius: 0.25em;background-color: #f0f8ff;}#sk-container-id-6 input.sk-toggleable__control:checked~div.sk-toggleable__content {max-height: 200px;max-width: 100%;overflow: auto;}#sk-container-id-6 input.sk-toggleable__control:checked~label.sk-toggleable__label-arrow:before {content: \"▾\";}#sk-container-id-6 div.sk-estimator input.sk-toggleable__control:checked~label.sk-toggleable__label {background-color: #d4ebff;}#sk-container-id-6 div.sk-label input.sk-toggleable__control:checked~label.sk-toggleable__label {background-color: #d4ebff;}#sk-container-id-6 input.sk-hidden--visually {border: 0;clip: rect(1px 1px 1px 1px);clip: rect(1px, 1px, 1px, 1px);height: 1px;margin: -1px;overflow: hidden;padding: 0;position: absolute;width: 1px;}#sk-container-id-6 div.sk-estimator {font-family: monospace;background-color: #f0f8ff;border: 1px dotted black;border-radius: 0.25em;box-sizing: border-box;margin-bottom: 0.5em;}#sk-container-id-6 div.sk-estimator:hover {background-color: #d4ebff;}#sk-container-id-6 div.sk-parallel-item::after {content: \"\";width: 100%;border-bottom: 1px solid gray;flex-grow: 1;}#sk-container-id-6 div.sk-label:hover label.sk-toggleable__label {background-color: #d4ebff;}#sk-container-id-6 div.sk-serial::before {content: \"\";position: absolute;border-left: 1px solid gray;box-sizing: border-box;top: 0;bottom: 0;left: 50%;z-index: 0;}#sk-container-id-6 div.sk-serial {display: flex;flex-direction: column;align-items: center;background-color: white;padding-right: 0.2em;padding-left: 0.2em;position: relative;}#sk-container-id-6 div.sk-item {position: relative;z-index: 1;}#sk-container-id-6 div.sk-parallel {display: flex;align-items: stretch;justify-content: center;background-color: white;position: relative;}#sk-container-id-6 div.sk-item::before, #sk-container-id-6 div.sk-parallel-item::before {content: \"\";position: absolute;border-left: 1px solid gray;box-sizing: border-box;top: 0;bottom: 0;left: 50%;z-index: -1;}#sk-container-id-6 div.sk-parallel-item {display: flex;flex-direction: column;z-index: 1;position: relative;background-color: white;}#sk-container-id-6 div.sk-parallel-item:first-child::after {align-self: flex-end;width: 50%;}#sk-container-id-6 div.sk-parallel-item:last-child::after {align-self: flex-start;width: 50%;}#sk-container-id-6 div.sk-parallel-item:only-child::after {width: 0;}#sk-container-id-6 div.sk-dashed-wrapped {border: 1px dashed gray;margin: 0 0.4em 0.5em 0.4em;box-sizing: border-box;padding-bottom: 0.4em;background-color: white;}#sk-container-id-6 div.sk-label label {font-family: monospace;font-weight: bold;display: inline-block;line-height: 1.2em;}#sk-container-id-6 div.sk-label-container {text-align: center;}#sk-container-id-6 div.sk-container {/* jupyter's `normalize.less` sets `[hidden] { display: none; }` but bootstrap.min.css set `[hidden] { display: none !important; }` so we also need the `!important` here to be able to override the default hidden behavior on the sphinx rendered scikit-learn.org. See: https://github.com/scikit-learn/scikit-learn/issues/21755 */display: inline-block !important;position: relative;}#sk-container-id-6 div.sk-text-repr-fallback {display: none;}</style><div id=\"sk-container-id-6\" class=\"sk-top-container\"><div class=\"sk-text-repr-fallback\"><pre>GridSearchCV(cv=5, estimator=SVR(), n_jobs=-1,\n",
       "             param_grid={&#x27;C&#x27;: [3, 5, 10, 100, 1000],\n",
       "                         &#x27;gamma&#x27;: [&#x27;scale&#x27;, &#x27;auto&#x27;, &#x27;kd_tree&#x27;, &#x27;brute&#x27;],\n",
       "                         &#x27;kernel&#x27;: [&#x27;linear&#x27;, &#x27;poly&#x27;, &#x27;rbf&#x27;]},\n",
       "             verbose=3)</pre><b>In a Jupyter environment, please rerun this cell to show the HTML representation or trust the notebook. <br />On GitHub, the HTML representation is unable to render, please try loading this page with nbviewer.org.</b></div><div class=\"sk-container\" hidden><div class=\"sk-item sk-dashed-wrapped\"><div class=\"sk-label-container\"><div class=\"sk-label sk-toggleable\"><input class=\"sk-toggleable__control sk-hidden--visually\" id=\"sk-estimator-id-10\" type=\"checkbox\" ><label for=\"sk-estimator-id-10\" class=\"sk-toggleable__label sk-toggleable__label-arrow\">GridSearchCV</label><div class=\"sk-toggleable__content\"><pre>GridSearchCV(cv=5, estimator=SVR(), n_jobs=-1,\n",
       "             param_grid={&#x27;C&#x27;: [3, 5, 10, 100, 1000],\n",
       "                         &#x27;gamma&#x27;: [&#x27;scale&#x27;, &#x27;auto&#x27;, &#x27;kd_tree&#x27;, &#x27;brute&#x27;],\n",
       "                         &#x27;kernel&#x27;: [&#x27;linear&#x27;, &#x27;poly&#x27;, &#x27;rbf&#x27;]},\n",
       "             verbose=3)</pre></div></div></div><div class=\"sk-parallel\"><div class=\"sk-parallel-item\"><div class=\"sk-item\"><div class=\"sk-label-container\"><div class=\"sk-label sk-toggleable\"><input class=\"sk-toggleable__control sk-hidden--visually\" id=\"sk-estimator-id-11\" type=\"checkbox\" ><label for=\"sk-estimator-id-11\" class=\"sk-toggleable__label sk-toggleable__label-arrow\">estimator: SVR</label><div class=\"sk-toggleable__content\"><pre>SVR()</pre></div></div></div><div class=\"sk-serial\"><div class=\"sk-item\"><div class=\"sk-estimator sk-toggleable\"><input class=\"sk-toggleable__control sk-hidden--visually\" id=\"sk-estimator-id-12\" type=\"checkbox\" ><label for=\"sk-estimator-id-12\" class=\"sk-toggleable__label sk-toggleable__label-arrow\">SVR</label><div class=\"sk-toggleable__content\"><pre>SVR()</pre></div></div></div></div></div></div></div></div></div></div>"
      ],
      "text/plain": [
       "GridSearchCV(cv=5, estimator=SVR(), n_jobs=-1,\n",
       "             param_grid={'C': [3, 5, 10, 100, 1000],\n",
       "                         'gamma': ['scale', 'auto', 'kd_tree', 'brute'],\n",
       "                         'kernel': ['linear', 'poly', 'rbf']},\n",
       "             verbose=3)"
      ]
     },
     "execution_count": 94,
     "metadata": {},
     "output_type": "execute_result"
    }
   ],
   "source": [
    "warnings.filterwarnings('ignore')\n",
    "grid_svr.fit(X_train, y_train)"
   ]
  },
  {
   "cell_type": "code",
   "execution_count": 95,
   "id": "e5e2f65d",
   "metadata": {
    "execution": {
     "iopub.execute_input": "2025-10-17T13:30:38.940029Z",
     "iopub.status.busy": "2025-10-17T13:30:38.939731Z",
     "iopub.status.idle": "2025-10-17T13:30:38.977137Z",
     "shell.execute_reply": "2025-10-17T13:30:38.975901Z"
    },
    "papermill": {
     "duration": 0.062653,
     "end_time": "2025-10-17T13:30:38.978869",
     "exception": false,
     "start_time": "2025-10-17T13:30:38.916216",
     "status": "completed"
    },
    "tags": []
   },
   "outputs": [
    {
     "name": "stdout",
     "output_type": "stream",
     "text": [
      "R2 Score:  0.3205478263761019\n",
      "MAE:  5742.442106358054\n",
      "MSE:  146198852.25443357\n"
     ]
    }
   ],
   "source": [
    "y_pred = grid_svr.predict(X_test)\n",
    "print('R2 Score: ', r2_score(y_test, y_pred))\n",
    "print('MAE: ', mean_absolute_error(y_test, y_pred))\n",
    "print('MSE: ', mean_squared_error(y_test, y_pred))"
   ]
  },
  {
   "cell_type": "markdown",
   "id": "4caa762c",
   "metadata": {
    "papermill": {
     "duration": 0.021564,
     "end_time": "2025-10-17T13:30:39.022554",
     "exception": false,
     "start_time": "2025-10-17T13:30:39.000990",
     "status": "completed"
    },
    "tags": []
   },
   "source": [
    "# Linear Regression"
   ]
  },
  {
   "cell_type": "code",
   "execution_count": 96,
   "id": "11ffda00",
   "metadata": {
    "execution": {
     "iopub.execute_input": "2025-10-17T13:30:39.067467Z",
     "iopub.status.busy": "2025-10-17T13:30:39.067128Z",
     "iopub.status.idle": "2025-10-17T13:30:39.071636Z",
     "shell.execute_reply": "2025-10-17T13:30:39.070688Z"
    },
    "papermill": {
     "duration": 0.028695,
     "end_time": "2025-10-17T13:30:39.073199",
     "exception": false,
     "start_time": "2025-10-17T13:30:39.044504",
     "status": "completed"
    },
    "tags": []
   },
   "outputs": [],
   "source": [
    "from sklearn.linear_model import LinearRegression"
   ]
  },
  {
   "cell_type": "code",
   "execution_count": 97,
   "id": "3fca9cf2",
   "metadata": {
    "execution": {
     "iopub.execute_input": "2025-10-17T13:30:39.118987Z",
     "iopub.status.busy": "2025-10-17T13:30:39.118671Z",
     "iopub.status.idle": "2025-10-17T13:30:39.122980Z",
     "shell.execute_reply": "2025-10-17T13:30:39.121942Z"
    },
    "papermill": {
     "duration": 0.02905,
     "end_time": "2025-10-17T13:30:39.124564",
     "exception": false,
     "start_time": "2025-10-17T13:30:39.095514",
     "status": "completed"
    },
    "tags": []
   },
   "outputs": [],
   "source": [
    "linear_reg = LinearRegression()"
   ]
  },
  {
   "cell_type": "code",
   "execution_count": 98,
   "id": "6ec1eb51",
   "metadata": {
    "execution": {
     "iopub.execute_input": "2025-10-17T13:30:39.170040Z",
     "iopub.status.busy": "2025-10-17T13:30:39.169709Z",
     "iopub.status.idle": "2025-10-17T13:30:39.202737Z",
     "shell.execute_reply": "2025-10-17T13:30:39.201774Z"
    },
    "papermill": {
     "duration": 0.058003,
     "end_time": "2025-10-17T13:30:39.204379",
     "exception": false,
     "start_time": "2025-10-17T13:30:39.146376",
     "status": "completed"
    },
    "tags": []
   },
   "outputs": [
    {
     "data": {
      "text/html": [
       "<style>#sk-container-id-7 {color: black;background-color: white;}#sk-container-id-7 pre{padding: 0;}#sk-container-id-7 div.sk-toggleable {background-color: white;}#sk-container-id-7 label.sk-toggleable__label {cursor: pointer;display: block;width: 100%;margin-bottom: 0;padding: 0.3em;box-sizing: border-box;text-align: center;}#sk-container-id-7 label.sk-toggleable__label-arrow:before {content: \"▸\";float: left;margin-right: 0.25em;color: #696969;}#sk-container-id-7 label.sk-toggleable__label-arrow:hover:before {color: black;}#sk-container-id-7 div.sk-estimator:hover label.sk-toggleable__label-arrow:before {color: black;}#sk-container-id-7 div.sk-toggleable__content {max-height: 0;max-width: 0;overflow: hidden;text-align: left;background-color: #f0f8ff;}#sk-container-id-7 div.sk-toggleable__content pre {margin: 0.2em;color: black;border-radius: 0.25em;background-color: #f0f8ff;}#sk-container-id-7 input.sk-toggleable__control:checked~div.sk-toggleable__content {max-height: 200px;max-width: 100%;overflow: auto;}#sk-container-id-7 input.sk-toggleable__control:checked~label.sk-toggleable__label-arrow:before {content: \"▾\";}#sk-container-id-7 div.sk-estimator input.sk-toggleable__control:checked~label.sk-toggleable__label {background-color: #d4ebff;}#sk-container-id-7 div.sk-label input.sk-toggleable__control:checked~label.sk-toggleable__label {background-color: #d4ebff;}#sk-container-id-7 input.sk-hidden--visually {border: 0;clip: rect(1px 1px 1px 1px);clip: rect(1px, 1px, 1px, 1px);height: 1px;margin: -1px;overflow: hidden;padding: 0;position: absolute;width: 1px;}#sk-container-id-7 div.sk-estimator {font-family: monospace;background-color: #f0f8ff;border: 1px dotted black;border-radius: 0.25em;box-sizing: border-box;margin-bottom: 0.5em;}#sk-container-id-7 div.sk-estimator:hover {background-color: #d4ebff;}#sk-container-id-7 div.sk-parallel-item::after {content: \"\";width: 100%;border-bottom: 1px solid gray;flex-grow: 1;}#sk-container-id-7 div.sk-label:hover label.sk-toggleable__label {background-color: #d4ebff;}#sk-container-id-7 div.sk-serial::before {content: \"\";position: absolute;border-left: 1px solid gray;box-sizing: border-box;top: 0;bottom: 0;left: 50%;z-index: 0;}#sk-container-id-7 div.sk-serial {display: flex;flex-direction: column;align-items: center;background-color: white;padding-right: 0.2em;padding-left: 0.2em;position: relative;}#sk-container-id-7 div.sk-item {position: relative;z-index: 1;}#sk-container-id-7 div.sk-parallel {display: flex;align-items: stretch;justify-content: center;background-color: white;position: relative;}#sk-container-id-7 div.sk-item::before, #sk-container-id-7 div.sk-parallel-item::before {content: \"\";position: absolute;border-left: 1px solid gray;box-sizing: border-box;top: 0;bottom: 0;left: 50%;z-index: -1;}#sk-container-id-7 div.sk-parallel-item {display: flex;flex-direction: column;z-index: 1;position: relative;background-color: white;}#sk-container-id-7 div.sk-parallel-item:first-child::after {align-self: flex-end;width: 50%;}#sk-container-id-7 div.sk-parallel-item:last-child::after {align-self: flex-start;width: 50%;}#sk-container-id-7 div.sk-parallel-item:only-child::after {width: 0;}#sk-container-id-7 div.sk-dashed-wrapped {border: 1px dashed gray;margin: 0 0.4em 0.5em 0.4em;box-sizing: border-box;padding-bottom: 0.4em;background-color: white;}#sk-container-id-7 div.sk-label label {font-family: monospace;font-weight: bold;display: inline-block;line-height: 1.2em;}#sk-container-id-7 div.sk-label-container {text-align: center;}#sk-container-id-7 div.sk-container {/* jupyter's `normalize.less` sets `[hidden] { display: none; }` but bootstrap.min.css set `[hidden] { display: none !important; }` so we also need the `!important` here to be able to override the default hidden behavior on the sphinx rendered scikit-learn.org. See: https://github.com/scikit-learn/scikit-learn/issues/21755 */display: inline-block !important;position: relative;}#sk-container-id-7 div.sk-text-repr-fallback {display: none;}</style><div id=\"sk-container-id-7\" class=\"sk-top-container\"><div class=\"sk-text-repr-fallback\"><pre>LinearRegression()</pre><b>In a Jupyter environment, please rerun this cell to show the HTML representation or trust the notebook. <br />On GitHub, the HTML representation is unable to render, please try loading this page with nbviewer.org.</b></div><div class=\"sk-container\" hidden><div class=\"sk-item\"><div class=\"sk-estimator sk-toggleable\"><input class=\"sk-toggleable__control sk-hidden--visually\" id=\"sk-estimator-id-13\" type=\"checkbox\" checked><label for=\"sk-estimator-id-13\" class=\"sk-toggleable__label sk-toggleable__label-arrow\">LinearRegression</label><div class=\"sk-toggleable__content\"><pre>LinearRegression()</pre></div></div></div></div></div>"
      ],
      "text/plain": [
       "LinearRegression()"
      ]
     },
     "execution_count": 98,
     "metadata": {},
     "output_type": "execute_result"
    }
   ],
   "source": [
    "linear_reg.fit(X_train, y_train)"
   ]
  },
  {
   "cell_type": "code",
   "execution_count": 99,
   "id": "b827dd33",
   "metadata": {
    "execution": {
     "iopub.execute_input": "2025-10-17T13:30:39.249600Z",
     "iopub.status.busy": "2025-10-17T13:30:39.249253Z",
     "iopub.status.idle": "2025-10-17T13:30:39.254712Z",
     "shell.execute_reply": "2025-10-17T13:30:39.253303Z"
    },
    "papermill": {
     "duration": 0.029913,
     "end_time": "2025-10-17T13:30:39.256296",
     "exception": false,
     "start_time": "2025-10-17T13:30:39.226383",
     "status": "completed"
    },
    "tags": []
   },
   "outputs": [],
   "source": [
    "y_pred = linear_reg.predict(X_test)"
   ]
  },
  {
   "cell_type": "code",
   "execution_count": 100,
   "id": "1bdb7e91",
   "metadata": {
    "execution": {
     "iopub.execute_input": "2025-10-17T13:30:39.301859Z",
     "iopub.status.busy": "2025-10-17T13:30:39.301551Z",
     "iopub.status.idle": "2025-10-17T13:30:39.310181Z",
     "shell.execute_reply": "2025-10-17T13:30:39.309178Z"
    },
    "papermill": {
     "duration": 0.032914,
     "end_time": "2025-10-17T13:30:39.311827",
     "exception": false,
     "start_time": "2025-10-17T13:30:39.278913",
     "status": "completed"
    },
    "tags": []
   },
   "outputs": [
    {
     "name": "stdout",
     "output_type": "stream",
     "text": [
      "R2 Score:  0.34913306839268643\n",
      "MAE:  6013.827648927473\n",
      "MSE:  140048118.27127442\n"
     ]
    }
   ],
   "source": [
    "y_pred = linear_reg.predict(X_test)\n",
    "print('R2 Score: ', r2_score(y_test, y_pred))\n",
    "print('MAE: ', mean_absolute_error(y_test, y_pred))\n",
    "print('MSE: ', mean_squared_error(y_test, y_pred))"
   ]
  },
  {
   "cell_type": "markdown",
   "id": "02ce970a",
   "metadata": {
    "papermill": {
     "duration": 0.022229,
     "end_time": "2025-10-17T13:30:39.356355",
     "exception": false,
     "start_time": "2025-10-17T13:30:39.334126",
     "status": "completed"
    },
    "tags": []
   },
   "source": [
    "# Ridge Lasso ElasticNet"
   ]
  },
  {
   "cell_type": "code",
   "execution_count": 101,
   "id": "dd489dd5",
   "metadata": {
    "execution": {
     "iopub.execute_input": "2025-10-17T13:30:39.401646Z",
     "iopub.status.busy": "2025-10-17T13:30:39.401303Z",
     "iopub.status.idle": "2025-10-17T13:30:39.406192Z",
     "shell.execute_reply": "2025-10-17T13:30:39.405160Z"
    },
    "papermill": {
     "duration": 0.0295,
     "end_time": "2025-10-17T13:30:39.407911",
     "exception": false,
     "start_time": "2025-10-17T13:30:39.378411",
     "status": "completed"
    },
    "tags": []
   },
   "outputs": [],
   "source": [
    "from sklearn.linear_model import RidgeCV, LassoCV, ElasticNetCV"
   ]
  },
  {
   "cell_type": "code",
   "execution_count": 102,
   "id": "9d57bf3f",
   "metadata": {
    "execution": {
     "iopub.execute_input": "2025-10-17T13:30:39.457462Z",
     "iopub.status.busy": "2025-10-17T13:30:39.457106Z",
     "iopub.status.idle": "2025-10-17T13:30:39.462073Z",
     "shell.execute_reply": "2025-10-17T13:30:39.461061Z"
    },
    "papermill": {
     "duration": 0.030701,
     "end_time": "2025-10-17T13:30:39.463669",
     "exception": false,
     "start_time": "2025-10-17T13:30:39.432968",
     "status": "completed"
    },
    "tags": []
   },
   "outputs": [],
   "source": [
    "ridge = RidgeCV(cv = 5)\n",
    "lasso = LassoCV(cv = 5)\n",
    "elasticnet = ElasticNetCV(cv = 5)"
   ]
  },
  {
   "cell_type": "code",
   "execution_count": 103,
   "id": "cd4669a9",
   "metadata": {
    "execution": {
     "iopub.execute_input": "2025-10-17T13:30:39.509857Z",
     "iopub.status.busy": "2025-10-17T13:30:39.509514Z",
     "iopub.status.idle": "2025-10-17T13:30:39.659377Z",
     "shell.execute_reply": "2025-10-17T13:30:39.658277Z"
    },
    "papermill": {
     "duration": 0.174549,
     "end_time": "2025-10-17T13:30:39.661125",
     "exception": false,
     "start_time": "2025-10-17T13:30:39.486576",
     "status": "completed"
    },
    "tags": []
   },
   "outputs": [
    {
     "data": {
      "text/html": [
       "<style>#sk-container-id-8 {color: black;background-color: white;}#sk-container-id-8 pre{padding: 0;}#sk-container-id-8 div.sk-toggleable {background-color: white;}#sk-container-id-8 label.sk-toggleable__label {cursor: pointer;display: block;width: 100%;margin-bottom: 0;padding: 0.3em;box-sizing: border-box;text-align: center;}#sk-container-id-8 label.sk-toggleable__label-arrow:before {content: \"▸\";float: left;margin-right: 0.25em;color: #696969;}#sk-container-id-8 label.sk-toggleable__label-arrow:hover:before {color: black;}#sk-container-id-8 div.sk-estimator:hover label.sk-toggleable__label-arrow:before {color: black;}#sk-container-id-8 div.sk-toggleable__content {max-height: 0;max-width: 0;overflow: hidden;text-align: left;background-color: #f0f8ff;}#sk-container-id-8 div.sk-toggleable__content pre {margin: 0.2em;color: black;border-radius: 0.25em;background-color: #f0f8ff;}#sk-container-id-8 input.sk-toggleable__control:checked~div.sk-toggleable__content {max-height: 200px;max-width: 100%;overflow: auto;}#sk-container-id-8 input.sk-toggleable__control:checked~label.sk-toggleable__label-arrow:before {content: \"▾\";}#sk-container-id-8 div.sk-estimator input.sk-toggleable__control:checked~label.sk-toggleable__label {background-color: #d4ebff;}#sk-container-id-8 div.sk-label input.sk-toggleable__control:checked~label.sk-toggleable__label {background-color: #d4ebff;}#sk-container-id-8 input.sk-hidden--visually {border: 0;clip: rect(1px 1px 1px 1px);clip: rect(1px, 1px, 1px, 1px);height: 1px;margin: -1px;overflow: hidden;padding: 0;position: absolute;width: 1px;}#sk-container-id-8 div.sk-estimator {font-family: monospace;background-color: #f0f8ff;border: 1px dotted black;border-radius: 0.25em;box-sizing: border-box;margin-bottom: 0.5em;}#sk-container-id-8 div.sk-estimator:hover {background-color: #d4ebff;}#sk-container-id-8 div.sk-parallel-item::after {content: \"\";width: 100%;border-bottom: 1px solid gray;flex-grow: 1;}#sk-container-id-8 div.sk-label:hover label.sk-toggleable__label {background-color: #d4ebff;}#sk-container-id-8 div.sk-serial::before {content: \"\";position: absolute;border-left: 1px solid gray;box-sizing: border-box;top: 0;bottom: 0;left: 50%;z-index: 0;}#sk-container-id-8 div.sk-serial {display: flex;flex-direction: column;align-items: center;background-color: white;padding-right: 0.2em;padding-left: 0.2em;position: relative;}#sk-container-id-8 div.sk-item {position: relative;z-index: 1;}#sk-container-id-8 div.sk-parallel {display: flex;align-items: stretch;justify-content: center;background-color: white;position: relative;}#sk-container-id-8 div.sk-item::before, #sk-container-id-8 div.sk-parallel-item::before {content: \"\";position: absolute;border-left: 1px solid gray;box-sizing: border-box;top: 0;bottom: 0;left: 50%;z-index: -1;}#sk-container-id-8 div.sk-parallel-item {display: flex;flex-direction: column;z-index: 1;position: relative;background-color: white;}#sk-container-id-8 div.sk-parallel-item:first-child::after {align-self: flex-end;width: 50%;}#sk-container-id-8 div.sk-parallel-item:last-child::after {align-self: flex-start;width: 50%;}#sk-container-id-8 div.sk-parallel-item:only-child::after {width: 0;}#sk-container-id-8 div.sk-dashed-wrapped {border: 1px dashed gray;margin: 0 0.4em 0.5em 0.4em;box-sizing: border-box;padding-bottom: 0.4em;background-color: white;}#sk-container-id-8 div.sk-label label {font-family: monospace;font-weight: bold;display: inline-block;line-height: 1.2em;}#sk-container-id-8 div.sk-label-container {text-align: center;}#sk-container-id-8 div.sk-container {/* jupyter's `normalize.less` sets `[hidden] { display: none; }` but bootstrap.min.css set `[hidden] { display: none !important; }` so we also need the `!important` here to be able to override the default hidden behavior on the sphinx rendered scikit-learn.org. See: https://github.com/scikit-learn/scikit-learn/issues/21755 */display: inline-block !important;position: relative;}#sk-container-id-8 div.sk-text-repr-fallback {display: none;}</style><div id=\"sk-container-id-8\" class=\"sk-top-container\"><div class=\"sk-text-repr-fallback\"><pre>ElasticNetCV(cv=5)</pre><b>In a Jupyter environment, please rerun this cell to show the HTML representation or trust the notebook. <br />On GitHub, the HTML representation is unable to render, please try loading this page with nbviewer.org.</b></div><div class=\"sk-container\" hidden><div class=\"sk-item\"><div class=\"sk-estimator sk-toggleable\"><input class=\"sk-toggleable__control sk-hidden--visually\" id=\"sk-estimator-id-14\" type=\"checkbox\" checked><label for=\"sk-estimator-id-14\" class=\"sk-toggleable__label sk-toggleable__label-arrow\">ElasticNetCV</label><div class=\"sk-toggleable__content\"><pre>ElasticNetCV(cv=5)</pre></div></div></div></div></div>"
      ],
      "text/plain": [
       "ElasticNetCV(cv=5)"
      ]
     },
     "execution_count": 103,
     "metadata": {},
     "output_type": "execute_result"
    }
   ],
   "source": [
    "ridge.fit(X_train, y_train)\n",
    "lasso.fit(X_train, y_train)\n",
    "elasticnet.fit(X_train, y_train)"
   ]
  },
  {
   "cell_type": "code",
   "execution_count": 104,
   "id": "c9f7586c",
   "metadata": {
    "execution": {
     "iopub.execute_input": "2025-10-17T13:30:39.708314Z",
     "iopub.status.busy": "2025-10-17T13:30:39.708015Z",
     "iopub.status.idle": "2025-10-17T13:30:39.713766Z",
     "shell.execute_reply": "2025-10-17T13:30:39.712843Z"
    },
    "papermill": {
     "duration": 0.030852,
     "end_time": "2025-10-17T13:30:39.715258",
     "exception": false,
     "start_time": "2025-10-17T13:30:39.684406",
     "status": "completed"
    },
    "tags": []
   },
   "outputs": [],
   "source": [
    "y_pred_ridge = ridge.predict(X_test)\n",
    "y_pred_lasso = lasso.predict(X_test)\n",
    "y_pred_elasticnet = elasticnet.predict(X_test)"
   ]
  },
  {
   "cell_type": "code",
   "execution_count": 105,
   "id": "efef40e2",
   "metadata": {
    "execution": {
     "iopub.execute_input": "2025-10-17T13:30:39.762324Z",
     "iopub.status.busy": "2025-10-17T13:30:39.762004Z",
     "iopub.status.idle": "2025-10-17T13:30:39.775050Z",
     "shell.execute_reply": "2025-10-17T13:30:39.773800Z"
    },
    "papermill": {
     "duration": 0.037974,
     "end_time": "2025-10-17T13:30:39.776679",
     "exception": false,
     "start_time": "2025-10-17T13:30:39.738705",
     "status": "completed"
    },
    "tags": []
   },
   "outputs": [
    {
     "name": "stdout",
     "output_type": "stream",
     "text": [
      "---------Ridge---------\n",
      "R2 Score:  0.3491385540229892\n",
      "MAE:  6013.413711174\n",
      "MSE:  140046937.91909468\n",
      "---------Lasso---------\n",
      "R2 Score:  0.34915090380328107\n",
      "MAE:  6012.434403426667\n",
      "MSE:  140044280.59636563\n",
      "---------ElasticNet---------\n",
      "R2 Score:  0.12177958862191329\n",
      "MAE:  8149.137315301293\n",
      "MSE:  188968143.9755965\n"
     ]
    }
   ],
   "source": [
    "print('---------Ridge---------')\n",
    "print('R2 Score: ', r2_score(y_test, y_pred_ridge))\n",
    "print('MAE: ', mean_absolute_error(y_test, y_pred_ridge))\n",
    "print('MSE: ', mean_squared_error(y_test, y_pred_ridge))\n",
    "print('---------Lasso---------')\n",
    "print('R2 Score: ', r2_score(y_test, y_pred_lasso))\n",
    "print('MAE: ', mean_absolute_error(y_test, y_pred_lasso))\n",
    "print('MSE: ', mean_squared_error(y_test, y_pred_lasso))\n",
    "print('---------ElasticNet---------')\n",
    "print('R2 Score: ', r2_score(y_test, y_pred_elasticnet))\n",
    "print('MAE: ', mean_absolute_error(y_test, y_pred_elasticnet))\n",
    "print('MSE: ', mean_squared_error(y_test, y_pred_elasticnet))"
   ]
  },
  {
   "cell_type": "markdown",
   "id": "ec729247",
   "metadata": {
    "papermill": {
     "duration": 0.023382,
     "end_time": "2025-10-17T13:30:39.822922",
     "exception": false,
     "start_time": "2025-10-17T13:30:39.799540",
     "status": "completed"
    },
    "tags": []
   },
   "source": [
    "# Conclusion\n",
    "\n",
    "We are not able to create a fine machine learning algorithm by using these regression models on this dataset."
   ]
  },
  {
   "cell_type": "code",
   "execution_count": null,
   "id": "397af04b",
   "metadata": {
    "papermill": {
     "duration": 0.021888,
     "end_time": "2025-10-17T13:30:39.867367",
     "exception": false,
     "start_time": "2025-10-17T13:30:39.845479",
     "status": "completed"
    },
    "tags": []
   },
   "outputs": [],
   "source": []
  }
 ],
 "metadata": {
  "kaggle": {
   "accelerator": "none",
   "dataSources": [
    {
     "datasetId": 4243612,
     "sourceId": 7312995,
     "sourceType": "datasetVersion"
    }
   ],
   "dockerImageVersionId": 31153,
   "isGpuEnabled": false,
   "isInternetEnabled": true,
   "language": "python",
   "sourceType": "notebook"
  },
  "kernelspec": {
   "display_name": "Python 3",
   "language": "python",
   "name": "python3"
  },
  "language_info": {
   "codemirror_mode": {
    "name": "ipython",
    "version": 3
   },
   "file_extension": ".py",
   "mimetype": "text/x-python",
   "name": "python",
   "nbconvert_exporter": "python",
   "pygments_lexer": "ipython3",
   "version": "3.11.13"
  },
  "papermill": {
   "default_parameters": {},
   "duration": 147.186345,
   "end_time": "2025-10-17T13:30:42.510882",
   "environment_variables": {},
   "exception": null,
   "input_path": "__notebook__.ipynb",
   "output_path": "__notebook__.ipynb",
   "parameters": {},
   "start_time": "2025-10-17T13:28:15.324537",
   "version": "2.6.0"
  }
 },
 "nbformat": 4,
 "nbformat_minor": 5
}
